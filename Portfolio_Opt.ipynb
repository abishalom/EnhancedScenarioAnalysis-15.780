{
 "cells": [
  {
   "cell_type": "markdown",
   "metadata": {},
   "source": [
    "## Defining the linear progam\n",
    "\n",
    "Decision Variables:\n",
    "- $x_{i}$ represents allocation of portfolio to asset $i$.\n",
    "\n",
    "Contraints:\n",
    "- $\\sum_{i} x_i = 1$\n",
    "- $x_i \\ge 0 \\forall i$\n",
    "\n",
    "Objective function:\n",
    "$$ \\max_x \\sum_{j} p_j \\times (x^T \\mu_{j} - \\lambda \\times x^T \\Sigma_j x)$$\n",
    "\n",
    "Constants being used:\n",
    "- $\\mu_j$, $\\Sigma_j$ are expected returns and covariance matrix under scenario $j$\n",
    "- $p_j$ is the probability of being in scenario $j$\n",
    "- $\\lambda$ is a constant representing risk tolerance."
   ]
  },
  {
   "cell_type": "code",
   "execution_count": 14,
   "metadata": {},
   "outputs": [],
   "source": [
    "using JuMP, Gurobi, LinearAlgebra, CSV"
   ]
  },
  {
   "cell_type": "code",
   "execution_count": 29,
   "metadata": {},
   "outputs": [
    {
     "name": "stdout",
     "output_type": "stream",
     "text": [
      "Academic license - for non-commercial use only\r\n"
     ]
    },
    {
     "data": {
      "text/latex": [
       "$$ \\begin{alignat*}{1}\\text{feasibility}\\\\\n",
       "\\text{Subject to} \\quad\\end{alignat*}\n",
       " $$"
      ],
      "text/plain": [
       "A JuMP Model\n",
       "Feasibility problem with:\n",
       "Variables: 0\n",
       "Model mode: AUTOMATIC\n",
       "CachingOptimizer state: EMPTY_OPTIMIZER\n",
       "Solver name: Gurobi"
      ]
     },
     "execution_count": 29,
     "metadata": {},
     "output_type": "execute_result"
    }
   ],
   "source": [
    "m = Model(with_optimizer(Gurobi.Optimizer))"
   ]
  },
  {
   "cell_type": "code",
   "execution_count": 30,
   "metadata": {},
   "outputs": [
    {
     "data": {
      "text/latex": [
       "$ x_{1} + x_{2} + x_{3} + x_{4} = 1.0 $"
      ],
      "text/plain": [
       "x[1] + x[2] + x[3] + x[4] == 1.0"
      ]
     },
     "execution_count": 30,
     "metadata": {},
     "output_type": "execute_result"
    }
   ],
   "source": [
    "num_assets = 4\n",
    "\n",
    "@variable(m, x[1:num_assets])\n",
    "\n",
    "@constraint(m, non_neg[i= 1:num_assets], x[i] >= 0)\n",
    "@constraint(m, sum(x[i] for i=1:num_assets) == 1)"
   ]
  },
  {
   "cell_type": "code",
   "execution_count": 31,
   "metadata": {},
   "outputs": [
    {
     "data": {
      "text/html": [
       "<table class=\"data-frame\"><thead><tr><th></th><th>Column1</th><th>SPY_Return</th><th>US_Corp_Return</th><th>TreasInd_Return</th><th>Cash_Return</th></tr><tr><th></th><th>String</th><th>Float64</th><th>Float64</th><th>Float64</th><th>Float64</th></tr></thead><tbody><p>3 rows × 5 columns</p><tr><th>1</th><td>Normal</td><td>0.0945161</td><td>0.0580127</td><td>0.041569</td><td>0.0163151</td></tr><tr><th>2</th><td>Strong</td><td>0.266753</td><td>0.0226978</td><td>-0.000699308</td><td>0.0128315</td></tr><tr><th>3</th><td>Weak</td><td>-0.0777203</td><td>0.0933276</td><td>0.0838374</td><td>0.0197986</td></tr></tbody></table>"
      ],
      "text/latex": [
       "\\begin{tabular}{r|ccccc}\n",
       "\t& Column1 & SPY\\_Return & US\\_Corp\\_Return & TreasInd\\_Return & Cash\\_Return\\\\\n",
       "\t\\hline\n",
       "\t& String & Float64 & Float64 & Float64 & Float64\\\\\n",
       "\t\\hline\n",
       "\t1 & Normal & 0.0945161 & 0.0580127 & 0.041569 & 0.0163151 \\\\\n",
       "\t2 & Strong & 0.266753 & 0.0226978 & -0.000699308 & 0.0128315 \\\\\n",
       "\t3 & Weak & -0.0777203 & 0.0933276 & 0.0838374 & 0.0197986 \\\\\n",
       "\\end{tabular}\n"
      ],
      "text/plain": [
       "3×5 DataFrames.DataFrame\n",
       "│ Row │ Column1 │ SPY_Return │ US_Corp_Return │ TreasInd_Return │ Cash_Return │\n",
       "│     │ \u001b[90mString\u001b[39m  │ \u001b[90mFloat64\u001b[39m    │ \u001b[90mFloat64\u001b[39m        │ \u001b[90mFloat64\u001b[39m         │ \u001b[90mFloat64\u001b[39m     │\n",
       "├─────┼─────────┼────────────┼────────────────┼─────────────────┼─────────────┤\n",
       "│ 1   │ Normal  │ 0.0945161  │ 0.0580127      │ 0.041569        │ 0.0163151   │\n",
       "│ 2   │ Strong  │ 0.266753   │ 0.0226978      │ -0.000699308    │ 0.0128315   │\n",
       "│ 3   │ Weak    │ -0.0777203 │ 0.0933276      │ 0.0838374       │ 0.0197986   │"
      ]
     },
     "execution_count": 31,
     "metadata": {},
     "output_type": "execute_result"
    }
   ],
   "source": [
    "rets = CSV.read(\"data/ExpReturns.csv\", header=1)"
   ]
  },
  {
   "cell_type": "code",
   "execution_count": 32,
   "metadata": {},
   "outputs": [
    {
     "data": {
      "text/plain": [
       "4×4 Array{Float64,2}:\n",
       "  0.00961561  0.00125883   -2.63236e-5    4.7724e-5 \n",
       "  0.00125883  0.0010316     0.000256363   1.34748e-5\n",
       " -2.63236e-5  0.000256363   0.000120137  -9.7315e-6 \n",
       "  4.7724e-5   1.34748e-5   -9.7315e-6     1.05526e-5"
      ]
     },
     "execution_count": 32,
     "metadata": {},
     "output_type": "execute_result"
    }
   ],
   "source": [
    "#Have to load the data.\n",
    "weak_mu = convert(Vector, rets[3, 2:num_assets+1])\n",
    "weak_sigma = convert(Matrix, CSV.read(\"data/Weak_CovMat.csv\", header=1)[:, 2:num_assets+1])\n",
    "\n",
    "normal_mu = convert(Vector, rets[1, 2:num_assets+1])\n",
    "normal_sigma = convert(Matrix, CSV.read(\"data/Normal_CovMat.csv\", header=1)[:, 2:num_assets+1])\n",
    "\n",
    "strong_mu = convert(Vector, rets[2, 2:num_assets+1])\n",
    "strong_sigma = convert(Matrix, CSV.read(\"data/Strong_CovMat.csv\", header=1)[:, 2:num_assets+1])"
   ]
  },
  {
   "cell_type": "code",
   "execution_count": 33,
   "metadata": {},
   "outputs": [
    {
     "data": {
      "text/plain": [
       "0.174410327907863"
      ]
     },
     "execution_count": 33,
     "metadata": {},
     "output_type": "execute_result"
    }
   ],
   "source": [
    "probs = CSV.read(\"data/theta0_Probs.csv\")[1, 2:num_assets]\n",
    "normal_prob = probs[1]\n",
    "\n",
    "strong_prob = probs[2]\n",
    "\n",
    "weak_prob = probs[3]"
   ]
  },
  {
   "cell_type": "code",
   "execution_count": 34,
   "metadata": {},
   "outputs": [
    {
     "data": {
      "text/plain": [
       "4-element Array{Any,1}:\n",
       " -0.07772030624304493 \n",
       "  0.09332758825036234 \n",
       "  0.08383736962723685 \n",
       "  0.019798631701334144"
      ]
     },
     "execution_count": 34,
     "metadata": {},
     "output_type": "execute_result"
    }
   ],
   "source": [
    "weak_mu"
   ]
  },
  {
   "cell_type": "code",
   "execution_count": 35,
   "metadata": {},
   "outputs": [
    {
     "data": {
      "text/latex": [
       "$$ -0.07772030624304493 x_{1} + 0.09332758825036234 x_{2} + 0.08383736962723685 x_{3} + 0.019798631701334144 x_{4} $$"
      ],
      "text/plain": [
       "-0.07772030624304493 x[1] + 0.09332758825036234 x[2] + 0.08383736962723685 x[3] + 0.019798631701334144 x[4]"
      ]
     },
     "execution_count": 35,
     "metadata": {},
     "output_type": "execute_result"
    }
   ],
   "source": [
    "transpose(x)*weak_mu"
   ]
  },
  {
   "cell_type": "code",
   "execution_count": 36,
   "metadata": {},
   "outputs": [
    {
     "data": {
      "text/latex": [
       "$$ -0.051054671374439996 x_{1}^2 - 0.02523474892721457 x_{1}\\times x_{2} - 0.0008865901259563005 x_{1}\\times x_{3} + 0.0025012771280120824 x_{1}\\times x_{4} - 0.012968896464517519 x_{2}^2 - 0.009758019022257265 x_{2}\\times x_{3} + 0.0009514309988238847 x_{2}\\times x_{4} - 0.002955378256353406 x_{3}^2 - 0.0002493680057120969 x_{3}\\times x_{4} - 0.0006127574870888281 x_{4}^2 + 0.08617838935838348 x_{1} + 0.059722256612685584 x_{2} + 0.0436151781366348 x_{3} + 0.016483709550814782 x_{4} $$"
      ],
      "text/plain": [
       "-0.051054671374439996 x[1]² - 0.02523474892721457 x[1]*x[2] - 0.0008865901259563005 x[1]*x[3] + 0.0025012771280120824 x[1]*x[4] - 0.012968896464517519 x[2]² - 0.009758019022257265 x[2]*x[3] + 0.0009514309988238847 x[2]*x[4] - 0.002955378256353406 x[3]² - 0.0002493680057120969 x[3]*x[4] - 0.0006127574870888281 x[4]² + 0.08617838935838348 x[1] + 0.059722256612685584 x[2] + 0.0436151781366348 x[3] + 0.016483709550814782 x[4]"
      ]
     },
     "execution_count": 36,
     "metadata": {},
     "output_type": "execute_result"
    }
   ],
   "source": [
    "lambda = 3\n",
    "@objective(m, Max, weak_prob*(transpose(x)*weak_mu - lambda * transpose(x)*weak_sigma*x) + normal_prob*(transpose(x)*normal_mu - lambda * transpose(x)*normal_sigma*x) + strong_prob*(transpose(x)*strong_mu - lambda*transpose(x)*strong_sigma*x))"
   ]
  },
  {
   "cell_type": "code",
   "execution_count": 37,
   "metadata": {},
   "outputs": [
    {
     "name": "stdout",
     "output_type": "stream",
     "text": [
      "Academic license - for non-commercial use only\r\n",
      "Optimize a model with 5 rows, 4 columns and 8 nonzeros\r\n",
      "Model has 10 quadratic objective terms\r\n",
      "Coefficient statistics:\r\n",
      "  Matrix range     [1e+00, 1e+00]\r\n",
      "  Objective range  [2e-02, 9e-02]\r\n",
      "  QObjective range [5e-04, 1e-01]\r\n",
      "  Bounds range     [0e+00, 0e+00]\r\n",
      "  RHS range        [1e+00, 1e+00]\r\n",
      "Presolve removed 4 rows and 0 columns\r\n",
      "Presolve time: 0.00s\r\n",
      "Presolved: 1 rows, 4 columns, 4 nonzeros\r\n",
      "Presolved model has 10 quadratic objective terms\r\n",
      "Ordering time: 0.00s\r\n",
      "\r\n",
      "Barrier statistics:\r\n",
      " Free vars  : 3\r\n",
      " AA' NZ     : 6.000e+00\r\n",
      " Factor NZ  : 1.000e+01\r\n",
      " Factor Ops : 3.000e+01 (less than 1 second per iteration)\r\n",
      " Threads    : 1\r\n",
      "\r\n",
      "                  Objective                Residual\r\n",
      "Iter       Primal          Dual         Primal    Dual     Compl     Time\r\n",
      "   0  -4.80073383e+05  4.82335337e+05  3.25e+03 6.98e-01  9.99e+05     0s\r\n",
      "   1  -2.94565306e+04  2.96161789e+04  9.86e+01 7.77e-08  4.45e+04     0s\r\n",
      "   2  -1.24015134e+02  2.45237566e+02  5.15e+00 4.06e-09  2.48e+03     0s\r\n",
      "   3   4.72135603e-02  1.16010017e+02  5.15e-06 3.98e-15  2.90e+01     0s\r\n",
      "   4   4.72150851e-02  1.85499386e-01  9.93e-10 3.47e-18  3.46e-02     0s\r\n",
      "   5   5.01175093e-02  6.15961402e-02  2.78e-11 0.00e+00  2.87e-03     0s\r\n",
      "   6   5.14831972e-02  5.42374200e-02  1.39e-17 1.67e-16  6.89e-04     0s\r\n",
      "   7   5.18671397e-02  5.19638256e-02  1.39e-17 3.51e-17  2.42e-05     0s\r\n",
      "   8   5.18821697e-02  5.18825485e-02  5.55e-17 3.15e-17  9.47e-08     0s\r\n",
      "   9   5.18822002e-02  5.18822005e-02  6.25e-17 1.11e-16  9.47e-11     0s\r\n",
      "\r\n",
      "Barrier solved model in 9 iterations and 0.00 seconds\r\n",
      "Optimal objective 5.18822002e-02\r\n",
      "\r\n"
     ]
    }
   ],
   "source": [
    "optimize!(m)"
   ]
  },
  {
   "cell_type": "code",
   "execution_count": 38,
   "metadata": {},
   "outputs": [
    {
     "data": {
      "text/plain": [
       "4-element Array{Float64,1}:\n",
       " 0.37700330378136065  \n",
       " 0.3673954986809241   \n",
       " 0.25560119604902193  \n",
       " 1.4886923497077307e-9"
      ]
     },
     "execution_count": 38,
     "metadata": {},
     "output_type": "execute_result"
    }
   ],
   "source": [
    "#SPY, US_Corp, TreasIndex, Cash\n",
    "value.(x)"
   ]
  },
  {
   "cell_type": "code",
   "execution_count": 39,
   "metadata": {},
   "outputs": [
    {
     "data": {
      "text/plain": [
       "0.06506706521859117"
      ]
     },
     "execution_count": 39,
     "metadata": {},
     "output_type": "execute_result"
    }
   ],
   "source": [
    "pwe = [0.087, 0.06, 0.04, 0.018]\n",
    "transpose(value.(x))*pwe"
   ]
  },
  {
   "cell_type": "code",
   "execution_count": 40,
   "metadata": {},
   "outputs": [
    {
     "data": {
      "text/plain": [
       "0.0045657057716343204"
      ]
     },
     "execution_count": 40,
     "metadata": {},
     "output_type": "execute_result"
    }
   ],
   "source": [
    "x = value.(x)\n",
    "weak_prob*(transpose(x)*weak_sigma*x) + normal_prob*transpose(x)*normal_sigma*x + strong_prob*transpose(x)*strong_sigma*x"
   ]
  },
  {
   "cell_type": "code",
   "execution_count": null,
   "metadata": {},
   "outputs": [],
   "source": []
  }
 ],
 "metadata": {
  "kernelspec": {
   "display_name": "Julia 1.1.0",
   "language": "julia",
   "name": "julia-1.1"
  },
  "language_info": {
   "file_extension": ".jl",
   "mimetype": "application/julia",
   "name": "julia",
   "version": "1.1.0"
  }
 },
 "nbformat": 4,
 "nbformat_minor": 2
}
