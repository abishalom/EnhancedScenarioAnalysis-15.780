{
 "cells": [
  {
   "cell_type": "code",
   "execution_count": 376,
   "metadata": {},
   "outputs": [],
   "source": [
    "import pandas as pd\n",
    "import numpy as np\n",
    "from scipy.spatial.distance import mahalanobis as maha"
   ]
  },
  {
   "cell_type": "markdown",
   "metadata": {},
   "source": [
    "## Data Cleaning\n",
    "\n",
    "- Load Data\n",
    "- Calculate yield curve slope and Y/Y changes in relevant columns\n",
    "\n",
    "\n",
    "#### Data Definitions\n",
    "- TNX: US 10y Treasury\n",
    "- US_Corp: ML US Corporate Bond Total Return Index\n",
    "- LIBOR: 3m LIBOR Rate\n",
    "- BAA: Moody's long-term corporate bond yields index\n",
    "- UNRATE: US seasonally-adjusted unemployment rate\n",
    "- SPY: S\\&P 500 Index\n",
    "- IRX: US 3m treasury rate\n",
    "- RGDP: US seasonally-adjusted Real GDP\n"
   ]
  },
  {
   "cell_type": "code",
   "execution_count": 399,
   "metadata": {},
   "outputs": [],
   "source": [
    "#Missing Commodity Index Data\n",
    "data = pd.read_csv('data/data.csv', index_col=0)\n",
    "data.index = pd.to_datetime(data.index)"
   ]
  },
  {
   "cell_type": "code",
   "execution_count": 400,
   "metadata": {},
   "outputs": [],
   "source": [
    "#Linear Interpolation Forward fill - for GDP data which is quarterly\n",
    "#Could potentially want to only use quarterly data - set lin_interp = False\n",
    "lin_interp = True\n",
    "\n",
    "if lin_interp:\n",
    "    data['RGDP'] = data['RGDP'].interpolate()\n",
    "else:\n",
    "    data = data.dropna(subset = ['RGDP'])"
   ]
  },
  {
   "cell_type": "code",
   "execution_count": 401,
   "metadata": {},
   "outputs": [],
   "source": [
    "#Yield Curve Slope: 10y yields - 3m yields\n",
    "data['YC_Slope'] =  pd.eval('data.TNX - data.IRX')\n",
    "#Credit Spread: long-term BAA (corp bonds) - 10y treasury rate\n",
    "data['Cred_Spread'] = pd.eval('data.BAA - data.TNX')"
   ]
  },
  {
   "cell_type": "code",
   "execution_count": 402,
   "metadata": {},
   "outputs": [],
   "source": [
    "#Fill in Y/Y changes\n",
    "YY_cols = ['CPI', 'RGDP']\n",
    "data[[x + '_Growth' for x in YY_cols]] = data[YY_cols]/data[YY_cols].shift(12 if lin_interp else 4) - 1\n",
    "\n",
    "#MISSING COMMODITIES INDEX AND INTEREST RATES INDEX\n",
    "assets = ['SPY', 'US_Corp']\n",
    "data[[x + '_Return' for x in assets]] = data[assets]/data[assets].shift(1) - 1\n",
    "\n",
    "assets.append('TreasInd')\n",
    "data['TreasInd_Return'] = data['TreasInd']\n",
    "assets.append('Cash')\n",
    "data['Cash_Return'] = data['Cash']\n",
    "\n",
    "data = data.drop(columns = ['TreasInd' , 'Cash'])\n",
    "\n",
    "#Drop null rows\n",
    "data = data.dropna()\n",
    "\n",
    "#Subtract mean\n",
    "# data = data - data.mean()"
   ]
  },
  {
   "cell_type": "code",
   "execution_count": 403,
   "metadata": {},
   "outputs": [
    {
     "data": {
      "text/plain": [
       "TNX                    3.158000\n",
       "US_Corp             1969.855909\n",
       "LIBOR                  1.262410\n",
       "CPI                  221.194000\n",
       "BAA                    6.020000\n",
       "UNRATE                 5.500000\n",
       "SPY                  133.820007\n",
       "IRX                    0.932000\n",
       "RGDP               15725.333000\n",
       "YC_Slope               2.041000\n",
       "Cred_Spread            2.615000\n",
       "CPI_Growth             0.020346\n",
       "RGDP_Growth            0.021447\n",
       "SPY_Return             0.009834\n",
       "US_Corp_Return         0.005527\n",
       "TreasInd_Return        0.000048\n",
       "Cash_Return            0.000043\n",
       "dtype: float64"
      ]
     },
     "execution_count": 403,
     "metadata": {},
     "output_type": "execute_result"
    }
   ],
   "source": [
    "data.median()"
   ]
  },
  {
   "cell_type": "code",
   "execution_count": 404,
   "metadata": {},
   "outputs": [
    {
     "data": {
      "text/html": [
       "<div>\n",
       "<style scoped>\n",
       "    .dataframe tbody tr th:only-of-type {\n",
       "        vertical-align: middle;\n",
       "    }\n",
       "\n",
       "    .dataframe tbody tr th {\n",
       "        vertical-align: top;\n",
       "    }\n",
       "\n",
       "    .dataframe thead th {\n",
       "        text-align: right;\n",
       "    }\n",
       "</style>\n",
       "<table border=\"1\" class=\"dataframe\">\n",
       "  <thead>\n",
       "    <tr style=\"text-align: right;\">\n",
       "      <th></th>\n",
       "      <th>TNX</th>\n",
       "      <th>US_Corp</th>\n",
       "      <th>LIBOR</th>\n",
       "      <th>CPI</th>\n",
       "      <th>BAA</th>\n",
       "      <th>UNRATE</th>\n",
       "      <th>SPY</th>\n",
       "      <th>IRX</th>\n",
       "      <th>RGDP</th>\n",
       "      <th>YC_Slope</th>\n",
       "      <th>Cred_Spread</th>\n",
       "      <th>CPI_Growth</th>\n",
       "      <th>RGDP_Growth</th>\n",
       "      <th>SPY_Return</th>\n",
       "      <th>US_Corp_Return</th>\n",
       "      <th>TreasInd_Return</th>\n",
       "      <th>Cash_Return</th>\n",
       "    </tr>\n",
       "    <tr>\n",
       "      <th>Date</th>\n",
       "      <th></th>\n",
       "      <th></th>\n",
       "      <th></th>\n",
       "      <th></th>\n",
       "      <th></th>\n",
       "      <th></th>\n",
       "      <th></th>\n",
       "      <th></th>\n",
       "      <th></th>\n",
       "      <th></th>\n",
       "      <th></th>\n",
       "      <th></th>\n",
       "      <th></th>\n",
       "      <th></th>\n",
       "      <th></th>\n",
       "      <th></th>\n",
       "      <th></th>\n",
       "    </tr>\n",
       "  </thead>\n",
       "  <tbody>\n",
       "    <tr>\n",
       "      <th>2001-02-01</th>\n",
       "      <td>4.908</td>\n",
       "      <td>1118.279500</td>\n",
       "      <td>5.348156</td>\n",
       "      <td>184.4</td>\n",
       "      <td>7.87</td>\n",
       "      <td>4.2</td>\n",
       "      <td>123.949997</td>\n",
       "      <td>4.72</td>\n",
       "      <td>13248.454667</td>\n",
       "      <td>0.188</td>\n",
       "      <td>2.962</td>\n",
       "      <td>0.027871</td>\n",
       "      <td>0.018872</td>\n",
       "      <td>-0.095388</td>\n",
       "      <td>0.014506</td>\n",
       "      <td>0.003573</td>\n",
       "      <td>0.000219</td>\n",
       "    </tr>\n",
       "    <tr>\n",
       "      <th>2001-03-01</th>\n",
       "      <td>4.915</td>\n",
       "      <td>1135.408261</td>\n",
       "      <td>4.963977</td>\n",
       "      <td>184.7</td>\n",
       "      <td>7.84</td>\n",
       "      <td>4.3</td>\n",
       "      <td>116.690002</td>\n",
       "      <td>4.18</td>\n",
       "      <td>13274.219333</td>\n",
       "      <td>0.735</td>\n",
       "      <td>2.925</td>\n",
       "      <td>0.026111</td>\n",
       "      <td>0.014697</td>\n",
       "      <td>-0.058572</td>\n",
       "      <td>0.015317</td>\n",
       "      <td>0.001863</td>\n",
       "      <td>0.000044</td>\n",
       "    </tr>\n",
       "    <tr>\n",
       "      <th>2001-04-01</th>\n",
       "      <td>5.338</td>\n",
       "      <td>1131.094000</td>\n",
       "      <td>4.613882</td>\n",
       "      <td>185.1</td>\n",
       "      <td>8.07</td>\n",
       "      <td>4.4</td>\n",
       "      <td>126.660004</td>\n",
       "      <td>3.83</td>\n",
       "      <td>13299.984000</td>\n",
       "      <td>1.508</td>\n",
       "      <td>2.732</td>\n",
       "      <td>0.026622</td>\n",
       "      <td>0.010572</td>\n",
       "      <td>0.085440</td>\n",
       "      <td>-0.003800</td>\n",
       "      <td>0.002098</td>\n",
       "      <td>0.000124</td>\n",
       "    </tr>\n",
       "    <tr>\n",
       "      <th>2001-05-01</th>\n",
       "      <td>5.413</td>\n",
       "      <td>1137.175217</td>\n",
       "      <td>4.103661</td>\n",
       "      <td>185.3</td>\n",
       "      <td>8.07</td>\n",
       "      <td>4.3</td>\n",
       "      <td>125.949997</td>\n",
       "      <td>3.54</td>\n",
       "      <td>13281.584000</td>\n",
       "      <td>1.873</td>\n",
       "      <td>2.657</td>\n",
       "      <td>0.025457</td>\n",
       "      <td>0.008725</td>\n",
       "      <td>-0.005606</td>\n",
       "      <td>0.005376</td>\n",
       "      <td>0.002226</td>\n",
       "      <td>0.000106</td>\n",
       "    </tr>\n",
       "    <tr>\n",
       "      <th>2001-06-01</th>\n",
       "      <td>5.390</td>\n",
       "      <td>1153.920455</td>\n",
       "      <td>3.834078</td>\n",
       "      <td>186.0</td>\n",
       "      <td>7.97</td>\n",
       "      <td>4.5</td>\n",
       "      <td>122.599998</td>\n",
       "      <td>3.56</td>\n",
       "      <td>13263.184000</td>\n",
       "      <td>1.830</td>\n",
       "      <td>2.580</td>\n",
       "      <td>0.027057</td>\n",
       "      <td>0.006880</td>\n",
       "      <td>-0.026598</td>\n",
       "      <td>0.014725</td>\n",
       "      <td>0.001951</td>\n",
       "      <td>0.000228</td>\n",
       "    </tr>\n",
       "  </tbody>\n",
       "</table>\n",
       "</div>"
      ],
      "text/plain": [
       "              TNX      US_Corp     LIBOR    CPI   BAA  UNRATE         SPY  \\\n",
       "Date                                                                        \n",
       "2001-02-01  4.908  1118.279500  5.348156  184.4  7.87     4.2  123.949997   \n",
       "2001-03-01  4.915  1135.408261  4.963977  184.7  7.84     4.3  116.690002   \n",
       "2001-04-01  5.338  1131.094000  4.613882  185.1  8.07     4.4  126.660004   \n",
       "2001-05-01  5.413  1137.175217  4.103661  185.3  8.07     4.3  125.949997   \n",
       "2001-06-01  5.390  1153.920455  3.834078  186.0  7.97     4.5  122.599998   \n",
       "\n",
       "             IRX          RGDP  YC_Slope  Cred_Spread  CPI_Growth  \\\n",
       "Date                                                                \n",
       "2001-02-01  4.72  13248.454667     0.188        2.962    0.027871   \n",
       "2001-03-01  4.18  13274.219333     0.735        2.925    0.026111   \n",
       "2001-04-01  3.83  13299.984000     1.508        2.732    0.026622   \n",
       "2001-05-01  3.54  13281.584000     1.873        2.657    0.025457   \n",
       "2001-06-01  3.56  13263.184000     1.830        2.580    0.027057   \n",
       "\n",
       "            RGDP_Growth  SPY_Return  US_Corp_Return  TreasInd_Return  \\\n",
       "Date                                                                   \n",
       "2001-02-01     0.018872   -0.095388        0.014506         0.003573   \n",
       "2001-03-01     0.014697   -0.058572        0.015317         0.001863   \n",
       "2001-04-01     0.010572    0.085440       -0.003800         0.002098   \n",
       "2001-05-01     0.008725   -0.005606        0.005376         0.002226   \n",
       "2001-06-01     0.006880   -0.026598        0.014725         0.001951   \n",
       "\n",
       "            Cash_Return  \n",
       "Date                     \n",
       "2001-02-01     0.000219  \n",
       "2001-03-01     0.000044  \n",
       "2001-04-01     0.000124  \n",
       "2001-05-01     0.000106  \n",
       "2001-06-01     0.000228  "
      ]
     },
     "execution_count": 404,
     "metadata": {},
     "output_type": "execute_result"
    }
   ],
   "source": [
    "data.head()"
   ]
  },
  {
   "cell_type": "code",
   "execution_count": 405,
   "metadata": {},
   "outputs": [
    {
     "data": {
      "text/plain": [
       "(6.8475652661926105, 4.7206466543372)"
      ]
     },
     "execution_count": 405,
     "metadata": {},
     "output_type": "execute_result"
    }
   ],
   "source": [
    "#Quick function to get num_sd standard deviations away from the median.\n",
    "#Up pos determines if up is good or bad. Idea being that good scenario is at index 1, bad scenario at index 0.\n",
    "def get_range(data, variable, num_sd, up_pos = True):\n",
    "    i = 1 if up_pos else -1\n",
    "    \n",
    "    v = data[variable]\n",
    "    v = v[(v < v.quantile(.85) ) & (v > v.quantile(.15))]\n",
    "    m = v.mean()\n",
    "    s = v.std()\n",
    "    \n",
    "    return tuple((m - i * num_sd * s, m + i * num_sd * s))\n",
    "\n",
    "get_range(data, 'UNRATE', 1, False)"
   ]
  },
  {
   "cell_type": "markdown",
   "metadata": {},
   "source": [
    "## Defining Scenarios\n",
    "\n",
    "- Define a scenario with a boolean string. Make sure to use spaces between operators (for calculation of mahalanobis distances.\n",
    "- Find empirical mean and covariance matrix of the factors in this scenario.\n",
    "- Encode scenario as a vector, then find mahalanobis distance using scenario vector and empirical mean, covariance.\n",
    "- We then convert scenario Mahalanobis distance into likelihood measure:\n",
    "$$ e^{\\frac{-d}{2}}$$\n",
    "- Rescale probabilities to sum to 1"
   ]
  },
  {
   "cell_type": "code",
   "execution_count": 406,
   "metadata": {},
   "outputs": [],
   "source": [
    "def get_scenario_vars(scenario):\n",
    "    #Get the variables in the scenario. Sort alphabetically for consistent replication\n",
    "    return sorted(list(set([v.split(' ')[0] for v in scenario.split(' & ')])))\n",
    "\n",
    "def get_scenario_vector(scenario):\n",
    "    #Get a vector from a scenario.\n",
    "    vector = {}\n",
    "    for v in scenario.split(' & '):\n",
    "        x = v.split(' ')\n",
    "        cn = x[0]\n",
    "        val = x[2]\n",
    "        vector[cn] = float(val)\n",
    "    vector = pd.DataFrame(vector, index = [0])\n",
    "    colnames = get_scenario_vars(scenario)\n",
    "    return vector[colnames].values"
   ]
  },
  {
   "cell_type": "code",
   "execution_count": 407,
   "metadata": {},
   "outputs": [
    {
     "name": "stdout",
     "output_type": "stream",
     "text": [
      "RGDP_Growth 0.016503513200072085 0.02755979252992184\n",
      "UNRATE 6.8475652661926105 4.7206466543372\n",
      "CPI_Growth 0.01786440182195505 0.022288559408427003\n",
      "YC_Slope 2.6131647971651435 1.308007177357148\n",
      "Cred_Spread 2.999529962512296 2.213743922838018\n",
      "TNX 2.438264827611647 4.032308420795997\n"
     ]
    },
    {
     "data": {
      "text/plain": [
       "{'Weak': 'RGDP_Growth <= 0.016503513200072085 & UNRATE >= 6.8475652661926105 & CPI_Growth <= 0.01786440182195505 & YC_Slope >= 2.6131647971651435 & Cred_Spread >= 2.999529962512296 & TNX <= 2.438264827611647',\n",
       " 'Strong': 'RGDP_Growth >= 0.02755979252992184 & UNRATE <= 4.7206466543372 & CPI_Growth >= 0.022288559408427003 & YC_Slope <= 1.308007177357148 & Cred_Spread <= 2.213743922838018 & TNX >= 4.032308420795997',\n",
       " 'Normal': 'RGDP_Growth >= 0.016503513200072085 & RGDP_Growth <= 0.02755979252992184 & UNRATE <= 6.8475652661926105 & UNRATE >= 4.7206466543372 & CPI_Growth >= 0.01786440182195505 & CPI_Growth <= 0.022288559408427003 & YC_Slope <= 2.6131647971651435 & YC_Slope >= 1.308007177357148 & Cred_Spread <= 2.999529962512296 & Cred_Spread >= 2.213743922838018 & TNX >= 2.438264827611647 & TNX <= 4.032308420795997'}"
      ]
     },
     "execution_count": 407,
     "metadata": {},
     "output_type": "execute_result"
    }
   ],
   "source": [
    "#Build the scenarios: Weak is >= 1 sd below median, strong is >= 1 sd above median, normal is in range [m - sd, m + sd].\n",
    "\n",
    "scen_names = ['Weak', 'Strong', 'Normal']\n",
    "relevant_vars = ['RGDP_Growth', 'UNRATE', 'CPI_Growth', 'YC_Slope', 'Cred_Spread', 'TNX']\n",
    "# relevant_vars = ['RGDP_Growth', 'UNRATE', 'CPI_Growth']\n",
    "# relevant_vars = ['RGDP_Growth']\n",
    "\n",
    "scenarios = {sn: '' for sn in scen_names}\n",
    "rgdp_scen = {sn: '' for sn in scen_names}\n",
    "\n",
    "up_pos = {v:True for v in relevant_vars}\n",
    "up_pos['UNRATE'] = False\n",
    "up_pos['YC_Slope'] = False\n",
    "up_pos['Cred_Spread'] = False\n",
    "\n",
    "first_run = True\n",
    "\n",
    "for var in relevant_vars:\n",
    "    if first_run:\n",
    "        first_run = False\n",
    "    else:\n",
    "        for v in scen_names:\n",
    "            scenarios[v] += ' & '\n",
    "    \n",
    "    low_bound, u_bound = get_range(data, var, 1, up_pos[var])\n",
    "    \n",
    "    l_sign = '<=' if up_pos[var] else '>='\n",
    "    u_sign = '>=' if up_pos[var] else '<='\n",
    "    \n",
    "    scenarios['Weak'] += ('{} {} {}'.format(var, l_sign, low_bound))\n",
    "    scenarios['Normal'] += ('{} {} {} & {} {} {}'.format(var, u_sign, low_bound, var, l_sign, u_bound))\n",
    "    scenarios['Strong'] += ('{} {} {}'.format(var, u_sign, u_bound))\n",
    "    \n",
    "    if var == 'RGDP_Growth':\n",
    "        rgdp_scen['Weak'] += ('{} {} {}'.format(var, l_sign, low_bound))\n",
    "        rgdp_scen['Normal'] += ('{} {} {} & {} {} {}'.format(var, u_sign, low_bound, var, l_sign, u_bound))\n",
    "        rgdp_scen['Strong'] += ('{} {} {}'.format(var, u_sign, u_bound))\n",
    "    \n",
    "    print(var, low_bound, u_bound)\n",
    "    \n",
    "scenarios"
   ]
  },
  {
   "cell_type": "code",
   "execution_count": 408,
   "metadata": {},
   "outputs": [
    {
     "name": "stdout",
     "output_type": "stream",
     "text": [
      "*********** Using Theta = 0 ********************\n",
      "Likelihoods:\t {'Weak': 0.4972047808129311, 'Strong': 0.6478172894675673, 'Normal': 0.7726989488988671}\n",
      "Probs: \t\t {'Weak': 0.2592685671379332, 'Strong': 0.33780580334087507, 'Normal': 0.40292562952119165}\n",
      "*********** Using Theta = 0.5 ********************\n",
      "Likelihoods:\t {'Weak': 0.18732420883673773, 'Strong': 0.42176984617775043, 'Normal': 0.4610411794786621}\n",
      "Probs: \t\t {'Weak': 0.1750472302927773, 'Strong': 0.39412761357915094, 'Normal': 0.4308251561280717}\n",
      "*********** Using Theta = 1 ********************\n",
      "Likelihoods:\t {'Weak': 0.06811843607922399, 'Strong': 0.1583276238637126, 'Normal': 0.1658795549119014}\n",
      "Probs: \t\t {'Weak': 0.1736272970716635, 'Strong': 0.40356178100248297, 'Normal': 0.42281092192585357}\n"
     ]
    }
   ],
   "source": [
    "for theta in [0, 0.5, 1]:\n",
    "\n",
    "    likelihoods = {}\n",
    "    l_sum = 0.0\n",
    "\n",
    "    for scenario_name, scenario in scenarios.items():\n",
    "        #Get relevant variables for scenario defined above\n",
    "        scenario_vars = get_scenario_vars(scenario)\n",
    "\n",
    "        #Get the empirical mean & covariance matrix of scenario vars\n",
    "        v = (1-theta) * data[scenario_vars].mean().values + theta*data[scenario_vars].tail(1).values\n",
    "\n",
    "        scen_cov = data[scenario_vars].corr()\n",
    "\n",
    "        #Encode the scenario as a vector - take empirical averages after conditioning on scenario\n",
    "        u = data.query(rgdp_scen[scenario_name])[scenario_vars].mean().values\n",
    "    #     print(u)\n",
    "        #u = get_scenario_vector(scenario)\n",
    "\n",
    "        #Mahalanobis distance, converted to likelihood\n",
    "        l = np.exp(-maha(u, v, scen_cov)/2)\n",
    "        likelihoods[scenario_name] = l\n",
    "        l_sum += l\n",
    "\n",
    "    print('*********** Using Theta = {} ********************'.format(theta))\n",
    "    probs = {sn: l/l_sum for sn, l in likelihoods.items()}\n",
    "    print('Likelihoods:\\t', likelihoods)\n",
    "    print('Probs: \\t\\t', probs)\n",
    "# print(mahala)"
   ]
  },
  {
   "cell_type": "code",
   "execution_count": 410,
   "metadata": {},
   "outputs": [
    {
     "name": "stdout",
     "output_type": "stream",
     "text": [
      "Weak (64, 4)\n",
      "                   SPY_Return  US_Corp_Return  TreasInd_Return   Cash_Return\n",
      "SPY_Return       2.785571e-03    3.204680e-04    -7.261031e-06 -5.917289e-07\n",
      "US_Corp_Return   3.204680e-04    3.455868e-04    -5.248170e-07  4.202677e-07\n",
      "TreasInd_Return -7.261031e-06   -5.248170e-07     5.933857e-06  7.523053e-09\n",
      "Cash_Return     -5.917289e-07    4.202677e-07     7.523053e-09  1.023196e-08\n",
      "Strong (66, 4)\n",
      "                   SPY_Return  US_Corp_Return  TreasInd_Return   Cash_Return\n",
      "SPY_Return       8.942520e-04    1.187977e-06    -1.028115e-05 -1.942357e-07\n",
      "US_Corp_Return   1.187977e-06    1.161285e-04     8.698091e-06 -3.433970e-08\n",
      "TreasInd_Return -1.028115e-05    8.698091e-06     4.543612e-06 -3.736356e-08\n",
      "Cash_Return     -1.942357e-07   -3.433970e-08    -3.736356e-08  4.903151e-09\n",
      "Normal (95, 4)\n",
      "                   SPY_Return  US_Corp_Return  TreasInd_Return   Cash_Return\n",
      "SPY_Return       1.580289e-03   -5.124242e-06    -1.400020e-05 -1.543577e-07\n",
      "US_Corp_Return  -5.124242e-06    1.054580e-04     9.034021e-06  1.159528e-07\n",
      "TreasInd_Return -1.400020e-05    9.034021e-06     5.568701e-06  3.013424e-08\n",
      "Cash_Return     -1.543577e-07    1.159528e-07     3.013424e-08  5.617789e-09\n",
      "\n",
      " *********** Returns *********** \n",
      "                      Weak    Strong    Normal\n",
      "Cash_Return      0.000078  0.000063  0.000069\n",
      "SPY_Return      -0.004329  0.008169  0.007701\n",
      "TreasInd_Return  0.000584  0.000045 -0.000056\n",
      "US_Corp_Return   0.005759  0.002783  0.005690\n"
     ]
    }
   ],
   "source": [
    "#Get expected historical returns for each scenario.\n",
    "#Likely want historical variances also.\n",
    "returns = pd.DataFrame()\n",
    "covariances = {}\n",
    "returns_cols = [x for x in data.columns if 'Return' in x]\n",
    "\n",
    "\n",
    "for scenario_name, scenario in scenarios.items():\n",
    "    scen_data = data.query(rgdp_scen[scenario_name])[returns_cols]\n",
    "    print(scenario_name, scen_data.shape)\n",
    "    m = scen_data.mean().rename('{}'.format(scenario_name))\n",
    "    \n",
    "    m.to_csv('{}_returns'.format(m))\n",
    "    \n",
    "    returns = returns.append(m)\n",
    "    cov_mat = scen_data.cov()\n",
    "    covariances[scenario_name] = cov_mat\n",
    "    print(cov_mat)\n",
    "\n",
    "    \n",
    "# x\n",
    "#Column: Scenario\n",
    "#Row: Expected return\n",
    "print(\"\\n *********** Returns *********** \\n\", returns.T)"
   ]
  },
  {
   "cell_type": "markdown",
   "metadata": {},
   "source": [
    "### Disregard below - not right."
   ]
  },
  {
   "cell_type": "code",
   "execution_count": 255,
   "metadata": {
    "collapsed": true
   },
   "outputs": [
    {
     "data": {
      "text/plain": [
       "Date\n",
       "1993-01-01    0.007402\n",
       "1993-04-01    0.008183\n",
       "1993-07-01    0.009043\n",
       "1993-10-01    0.009513\n",
       "1994-01-01    0.010511\n",
       "1994-04-01    0.011619\n",
       "1994-07-01    0.013492\n",
       "1994-10-01    0.015674\n",
       "1995-01-01    0.014360\n",
       "1995-04-01    0.015669\n",
       "1995-07-01    0.015091\n",
       "1995-10-01    0.013657\n",
       "1996-01-01    0.014356\n",
       "1996-04-01    0.014343\n",
       "1996-07-01    0.013654\n",
       "1996-10-01    0.011751\n",
       "1997-01-01    0.012357\n",
       "1997-04-01    0.011172\n",
       "1997-07-01    0.010112\n",
       "1997-10-01    0.009153\n",
       "1998-01-01    0.008706\n",
       "1998-04-01    0.007493\n",
       "1998-07-01    0.008279\n",
       "1998-10-01    0.008277\n",
       "1999-01-01    0.007493\n",
       "1999-04-01    0.007494\n",
       "1999-07-01    0.007491\n",
       "1999-10-01    0.006776\n",
       "2000-01-01    0.006453\n",
       "2000-04-01    0.005832\n",
       "                ...   \n",
       "2012-04-01    0.004721\n",
       "2012-07-01    0.004720\n",
       "2012-10-01    0.005764\n",
       "2013-01-01    0.005219\n",
       "2013-04-01    0.006371\n",
       "2013-07-01    0.007406\n",
       "2013-10-01    0.007785\n",
       "2014-01-01    0.010500\n",
       "2014-04-01    0.012841\n",
       "2014-07-01    0.012840\n",
       "2014-10-01    0.015094\n",
       "2015-01-01    0.015092\n",
       "2015-04-01    0.012990\n",
       "2015-07-01    0.011758\n",
       "2015-10-01    0.010641\n",
       "2016-01-01    0.010118\n",
       "2016-04-01    0.010638\n",
       "2016-07-01    0.009625\n",
       "2016-10-01    0.010118\n",
       "2017-01-01    0.009155\n",
       "2017-04-01    0.007880\n",
       "2017-07-01    0.007494\n",
       "2017-10-01    0.006781\n",
       "2018-01-01    0.006782\n",
       "2018-04-01    0.006135\n",
       "2018-07-01    0.006136\n",
       "2018-10-01    0.005839\n",
       "2019-01-01    0.006450\n",
       "2019-04-01    0.005282\n",
       "2019-07-01    0.005553\n",
       "Name: Prob_1, Length: 107, dtype: float64"
      ]
     },
     "execution_count": 255,
     "metadata": {},
     "output_type": "execute_result"
    }
   ],
   "source": [
    "#Define scenario, use spaces between operators for ease of parsing.\n",
    "scenario = 'RGDP_Growth = 0.01 & UNRATE = 6'\n",
    "\n",
    "#Get relevant variables from the scenario defined above.\n",
    "scenario_vars = [v.split(' ')[0] for v in scenario.split(' & ')]\n",
    "\n",
    "#Filter data on the above scenario - not sure if useful or not...\n",
    "scen_data = data.query(scenario)[scenario_vars]\n",
    "\n",
    "#Get the empirical mean & correlation matrix of scenario vars\n",
    "v = data[scenario_vars].mean().values\n",
    "scen_corr = data[scenario_vars].corr()\n",
    "\n",
    "#Calculate mahalanobis distance, transform to likelihood measure\n",
    "data['L_1'] = data[scenario_vars].apply(lambda x: np.exp(-maha(x ,v, scen_corr)/2), raw = True, axis = 1)\n",
    "\n",
    "#Rescale for likelihood\n",
    "data['Prob_1'] = data['L_1'].dropna()/data['L_1'].sum()\n",
    "# data['Prob_1'] = data['Prob_1'].fillna(0)\n",
    "data.Prob_1"
   ]
  },
  {
   "cell_type": "code",
   "execution_count": 23,
   "metadata": {},
   "outputs": [],
   "source": [
    "scenario_1 = 'RGDP_Growth = 0.01 & UNRATE = 6'\n",
    "scenario_2 = 'RGDP_Growth '\n",
    "\n",
    "# l_1 = np.exp(-maha(np.array([float(v.split(' ')[2]) for v in scenario_1.split(' & ')]), v, scen_corr))"
   ]
  },
  {
   "cell_type": "code",
   "execution_count": 25,
   "metadata": {},
   "outputs": [
    {
     "data": {
      "text/plain": [
       "['RGDP_Growth', 'UNRATE']"
      ]
     },
     "execution_count": 25,
     "metadata": {},
     "output_type": "execute_result"
    }
   ],
   "source": [
    "get_scenario_vars(scenario_1)"
   ]
  },
  {
   "cell_type": "code",
   "execution_count": null,
   "metadata": {},
   "outputs": [],
   "source": [
    "get_s"
   ]
  }
 ],
 "metadata": {
  "kernelspec": {
   "display_name": "Python 3",
   "language": "python",
   "name": "python3"
  },
  "language_info": {
   "codemirror_mode": {
    "name": "ipython",
    "version": 3
   },
   "file_extension": ".py",
   "mimetype": "text/x-python",
   "name": "python",
   "nbconvert_exporter": "python",
   "pygments_lexer": "ipython3",
   "version": "3.6.6"
  }
 },
 "nbformat": 4,
 "nbformat_minor": 2
}
