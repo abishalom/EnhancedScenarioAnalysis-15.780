{
 "cells": [
  {
   "cell_type": "markdown",
   "metadata": {},
   "source": [
    "## Defining the linear progam\n",
    "\n",
    "Decision Variables:\n",
    "- $x_{i}$ represents allocation of portfolio to asset $i$.\n",
    "\n",
    "Contraints:\n",
    "- $\\sum_{i} x_i = 1$\n",
    "- $x_i \\ge 0 \\forall i$\n",
    "\n",
    "Objective function:\n",
    "$$ \\max_x \\sum_{j} p_j \\times (x^T \\mu_{j} - \\lambda \\times x^T \\Sigma_j x)$$\n",
    "\n",
    "Constants being used:\n",
    "- $\\mu_j$, $\\Sigma_j$ are expected returns and covariance matrix under scenario $j$\n",
    "- $p_j$ is the probability of being in scenario $j$\n",
    "- $\\lambda$ is a constant representing risk tolerance."
   ]
  },
  {
   "cell_type": "code",
   "execution_count": 1,
   "metadata": {},
   "outputs": [],
   "source": [
    "using JuMP, Gurobi, LinearAlgebra"
   ]
  },
  {
   "cell_type": "code",
   "execution_count": 16,
   "metadata": {},
   "outputs": [
    {
     "name": "stdout",
     "output_type": "stream",
     "text": [
      "Academic license - for non-commercial use only\r\n"
     ]
    },
    {
     "data": {
      "text/latex": [
       "$$ \\begin{alignat*}{1}\\text{feasibility}\\\\\n",
       "\\text{Subject to} \\quad\\end{alignat*}\n",
       " $$"
      ],
      "text/plain": [
       "A JuMP Model\n",
       "Feasibility problem with:\n",
       "Variables: 0\n",
       "Model mode: AUTOMATIC\n",
       "CachingOptimizer state: EMPTY_OPTIMIZER\n",
       "Solver name: Gurobi"
      ]
     },
     "execution_count": 16,
     "metadata": {},
     "output_type": "execute_result"
    }
   ],
   "source": [
    "m = Model(with_optimizer(Gurobi.Optimizer))"
   ]
  },
  {
   "cell_type": "code",
   "execution_count": 17,
   "metadata": {},
   "outputs": [
    {
     "data": {
      "text/latex": [
       "$ x_{1} + x_{2} + x_{3} + x_{4} = 1.0 $"
      ],
      "text/plain": [
       "x[1] + x[2] + x[3] + x[4] == 1.0"
      ]
     },
     "execution_count": 17,
     "metadata": {},
     "output_type": "execute_result"
    }
   ],
   "source": [
    "num_assets = 4\n",
    "\n",
    "@variable(m, x[1:num_assets])\n",
    "\n",
    "@constraint(m, non_neg[i= 1:num_assets], x[i] >= 0)\n",
    "@constraint(m, sum(x[i] for i=1:num_assets) == 1)"
   ]
  },
  {
   "cell_type": "code",
   "execution_count": null,
   "metadata": {},
   "outputs": [],
   "source": [
    "#Have to load the data."
   ]
  }
 ],
 "metadata": {
  "kernelspec": {
   "display_name": "Julia 1.1.0",
   "language": "julia",
   "name": "julia-1.1"
  },
  "language_info": {
   "file_extension": ".jl",
   "mimetype": "application/julia",
   "name": "julia",
   "version": "1.1.0"
  }
 },
 "nbformat": 4,
 "nbformat_minor": 2
}
