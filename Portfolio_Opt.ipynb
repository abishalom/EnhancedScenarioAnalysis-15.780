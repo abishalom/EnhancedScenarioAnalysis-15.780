{
 "cells": [
  {
   "cell_type": "markdown",
   "metadata": {},
   "source": [
    "## Defining the linear progam\n",
    "\n",
    "Decision Variables:\n",
    "- $x_{i}$ represents allocation of portfolio to asset $i$.\n",
    "\n",
    "Contraints:\n",
    "- $\\sum_{i} x_i = 1$\n",
    "- $x_i \\ge 0 \\forall i$\n",
    "\n",
    "Objective function:\n",
    "$$ \\max_x \\sum_{j} p_j \\times (x^T \\mu_{j} - \\lambda \\times x^T \\Sigma_j x)$$\n",
    "\n",
    "Constants being used:\n",
    "- $\\mu_j$, $\\Sigma_j$ are expected returns and covariance matrix under scenario $j$\n",
    "- $p_j$ is the probability of being in scenario $j$\n",
    "- $\\lambda$ is a constant representing risk tolerance."
   ]
  },
  {
   "cell_type": "code",
   "execution_count": 1,
   "metadata": {},
   "outputs": [
    {
     "name": "stderr",
     "output_type": "stream",
     "text": [
      "┌ Info: Recompiling stale cache file C:\\Users\\Abi Shalom\\.julia\\compiled\\v1.1\\CSV\\HHBkp.ji for CSV [336ed68f-0bac-5ca0-87d4-7b16caf5d00b]\n",
      "└ @ Base loading.jl:1184\n"
     ]
    }
   ],
   "source": [
    "using JuMP, Gurobi, LinearAlgebra, CSV"
   ]
  },
  {
   "cell_type": "code",
   "execution_count": 21,
   "metadata": {},
   "outputs": [
    {
     "name": "stdout",
     "output_type": "stream",
     "text": [
      "Academic license - for non-commercial use only\r\n"
     ]
    },
    {
     "data": {
      "text/latex": [
       "$$ \\begin{alignat*}{1}\\text{feasibility}\\\\\n",
       "\\text{Subject to} \\quad\\end{alignat*}\n",
       " $$"
      ],
      "text/plain": [
       "A JuMP Model\n",
       "Feasibility problem with:\n",
       "Variables: 0\n",
       "Model mode: AUTOMATIC\n",
       "CachingOptimizer state: EMPTY_OPTIMIZER\n",
       "Solver name: Gurobi"
      ]
     },
     "execution_count": 21,
     "metadata": {},
     "output_type": "execute_result"
    }
   ],
   "source": [
    "m = Model(with_optimizer(Gurobi.Optimizer))"
   ]
  },
  {
   "cell_type": "code",
   "execution_count": 22,
   "metadata": {},
   "outputs": [
    {
     "data": {
      "text/latex": [
       "$ x_{1} + x_{2} + x_{3} + x_{4} = 1.0 $"
      ],
      "text/plain": [
       "x[1] + x[2] + x[3] + x[4] == 1.0"
      ]
     },
     "execution_count": 22,
     "metadata": {},
     "output_type": "execute_result"
    }
   ],
   "source": [
    "num_assets = 4\n",
    "\n",
    "@variable(m, x[1:num_assets])\n",
    "\n",
    "@constraint(m, non_neg[i= 1:num_assets], x[i] >= 0)\n",
    "@constraint(m, sum(x[i] for i=1:num_assets) == 1)"
   ]
  },
  {
   "cell_type": "code",
   "execution_count": 33,
   "metadata": {},
   "outputs": [
    {
     "data": {
      "text/plain": [
       "4×4 Array{Float64,2}:\n",
       "  0.00103178   2.89319e-5   -5.71885e-6  -7.71128e-8\n",
       "  2.89319e-5   0.000110709   7.94709e-6  -2.40336e-8\n",
       " -5.71885e-6   7.94709e-6    4.2875e-6   -2.23545e-8\n",
       " -7.71128e-8  -2.40336e-8   -2.23545e-8   4.82177e-9"
      ]
     },
     "execution_count": 33,
     "metadata": {},
     "output_type": "execute_result"
    }
   ],
   "source": [
    "#Have to load the data.\n",
    "weak_mu = CSV.read(\"data/Weak_ExpReturns.csv\", header=0)[:, 2]\n",
    "weak_sigma = convert(Matrix, CSV.read(\"data/Weak_CovMat.csv\", header=1)[:, 2:num_assets+1])\n",
    "\n",
    "normal_mu = CSV.read(\"data/Normal_ExpReturns.csv\", header=0)[:, 2]\n",
    "normal_sigma = convert(Matrix, CSV.read(\"data/Normal_CovMat.csv\", header=1)[:, 2:num_assets+1])\n",
    "\n",
    "strong_mu = CSV.read(\"data/Strong_ExpReturns.csv\", header = 0)[:, 2]\n",
    "strong_sigma = convert(Matrix, CSV.read(\"data/Strong_CovMat.csv\", header=1)[:, 2:num_assets+1])"
   ]
  },
  {
   "cell_type": "code",
   "execution_count": 34,
   "metadata": {},
   "outputs": [
    {
     "data": {
      "text/html": [
       "<table class=\"data-frame\"><thead><tr><th></th><th>Column1</th><th>Normal</th><th>Strong</th><th>Weak</th></tr><tr><th></th><th>Int64</th><th>Float64</th><th>Float64</th><th>Float64</th></tr></thead><tbody><p>1 rows × 4 columns</p><tr><th>1</th><td>1</td><td>0.386468</td><td>0.333812</td><td>0.27972</td></tr></tbody></table>"
      ],
      "text/latex": [
       "\\begin{tabular}{r|cccc}\n",
       "\t& Column1 & Normal & Strong & Weak\\\\\n",
       "\t\\hline\n",
       "\t& Int64 & Float64 & Float64 & Float64\\\\\n",
       "\t\\hline\n",
       "\t1 & 1 & 0.386468 & 0.333812 & 0.27972 \\\\\n",
       "\\end{tabular}\n"
      ],
      "text/plain": [
       "1×4 DataFrames.DataFrame\n",
       "│ Row │ Column1 │ Normal   │ Strong   │ Weak    │\n",
       "│     │ \u001b[90mInt64\u001b[39m   │ \u001b[90mFloat64\u001b[39m  │ \u001b[90mFloat64\u001b[39m  │ \u001b[90mFloat64\u001b[39m │\n",
       "├─────┼─────────┼──────────┼──────────┼─────────┤\n",
       "│ 1   │ 1       │ 0.386468 │ 0.333812 │ 0.27972 │"
      ]
     },
     "execution_count": 34,
     "metadata": {},
     "output_type": "execute_result"
    }
   ],
   "source": [
    "CSV.read(\"data/theta0_Probs.csv\")"
   ]
  }
 ],
 "metadata": {
  "kernelspec": {
   "display_name": "Julia 1.1.0",
   "language": "julia",
   "name": "julia-1.1"
  },
  "language_info": {
   "file_extension": ".jl",
   "mimetype": "application/julia",
   "name": "julia",
   "version": "1.1.0"
  }
 },
 "nbformat": 4,
 "nbformat_minor": 2
}
