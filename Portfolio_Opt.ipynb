{
 "cells": [
  {
   "cell_type": "markdown",
   "metadata": {},
   "source": [
    "## Defining the linear progam\n",
    "\n",
    "Decision Variables:\n",
    "- $x_{i}$ represents allocation of portfolio to asset $i$.\n",
    "\n",
    "Contraints:\n",
    "- $\\sum_{i} x_i = 1$\n",
    "- $x_i \\ge 0 \\forall i$\n",
    "\n",
    "Objective function:\n",
    "$$ \\max_x \\sum_{j} p_j \\times (x^T \\mu_{j} - \\lambda \\times x^T \\Sigma_j x)$$\n",
    "\n",
    "Constants being used:\n",
    "- $\\mu_j$, $\\Sigma_j$ are expected returns and covariance matrix under scenario $j$\n",
    "- $p_j$ is the probability of being in scenario $j$\n",
    "- $\\lambda$ is a constant representing risk tolerance."
   ]
  },
  {
   "cell_type": "code",
   "execution_count": 62,
   "metadata": {},
   "outputs": [],
   "source": [
    "using JuMP, Gurobi, LinearAlgebra, CSV"
   ]
  },
  {
   "cell_type": "code",
   "execution_count": 63,
   "metadata": {},
   "outputs": [
    {
     "name": "stdout",
     "output_type": "stream",
     "text": [
      "Academic license - for non-commercial use only\r\n"
     ]
    },
    {
     "data": {
      "text/latex": [
       "$$ \\begin{alignat*}{1}\\text{feasibility}\\\\\n",
       "\\text{Subject to} \\quad\\end{alignat*}\n",
       " $$"
      ],
      "text/plain": [
       "A JuMP Model\n",
       "Feasibility problem with:\n",
       "Variables: 0\n",
       "Model mode: AUTOMATIC\n",
       "CachingOptimizer state: EMPTY_OPTIMIZER\n",
       "Solver name: Gurobi"
      ]
     },
     "execution_count": 63,
     "metadata": {},
     "output_type": "execute_result"
    }
   ],
   "source": [
    "m = Model(with_optimizer(Gurobi.Optimizer))"
   ]
  },
  {
   "cell_type": "code",
   "execution_count": 64,
   "metadata": {},
   "outputs": [
    {
     "data": {
      "text/latex": [
       "$ x_{1} + x_{2} + x_{3} + x_{4} = 1.0 $"
      ],
      "text/plain": [
       "x[1] + x[2] + x[3] + x[4] == 1.0"
      ]
     },
     "execution_count": 64,
     "metadata": {},
     "output_type": "execute_result"
    }
   ],
   "source": [
    "num_assets = 4\n",
    "\n",
    "@variable(m, x[1:num_assets])\n",
    "\n",
    "@constraint(m, non_neg[i= 1:num_assets], x[i] >= 0)\n",
    "@constraint(m, sum(x[i] for i=1:num_assets) == 1)"
   ]
  },
  {
   "cell_type": "code",
   "execution_count": 65,
   "metadata": {},
   "outputs": [
    {
     "data": {
      "text/html": [
       "<table class=\"data-frame\"><thead><tr><th></th><th>Column1</th><th>Column2</th></tr><tr><th></th><th>String</th><th>Float64</th></tr></thead><tbody><p>4 rows × 2 columns</p><tr><th>1</th><td>SPY_Return</td><td>0.108971</td></tr><tr><th>2</th><td>US_Corp_Return</td><td>0.0833257</td></tr><tr><th>3</th><td>TreasInd_Return</td><td>0.0071563</td></tr><tr><th>4</th><td>Cash_Return</td><td>0.000886495</td></tr></tbody></table>"
      ],
      "text/latex": [
       "\\begin{tabular}{r|cc}\n",
       "\t& Column1 & Column2\\\\\n",
       "\t\\hline\n",
       "\t& String & Float64\\\\\n",
       "\t\\hline\n",
       "\t1 & SPY\\_Return & 0.108971 \\\\\n",
       "\t2 & US\\_Corp\\_Return & 0.0833257 \\\\\n",
       "\t3 & TreasInd\\_Return & 0.0071563 \\\\\n",
       "\t4 & Cash\\_Return & 0.000886495 \\\\\n",
       "\\end{tabular}\n"
      ],
      "text/plain": [
       "4×2 DataFrames.DataFrame\n",
       "│ Row │ Column1         │ Column2     │\n",
       "│     │ \u001b[90mString\u001b[39m          │ \u001b[90mFloat64\u001b[39m     │\n",
       "├─────┼─────────────────┼─────────────┤\n",
       "│ 1   │ SPY_Return      │ 0.108971    │\n",
       "│ 2   │ US_Corp_Return  │ 0.0833257   │\n",
       "│ 3   │ TreasInd_Return │ 0.0071563   │\n",
       "│ 4   │ Cash_Return     │ 0.000886495 │"
      ]
     },
     "execution_count": 65,
     "metadata": {},
     "output_type": "execute_result"
    }
   ],
   "source": [
    "CSV.read(\"data/Weak_ExpReturns.csv\", header=0)"
   ]
  },
  {
   "cell_type": "code",
   "execution_count": 66,
   "metadata": {},
   "outputs": [
    {
     "data": {
      "text/plain": [
       "4×4 Array{Float64,2}:\n",
       "  0.190415      0.0071689   -0.000709067  -5.29306e-6\n",
       "  0.0071689     0.0163268    0.00117289   -5.6025e-6 \n",
       " -0.000709067   0.00117289   0.000620389  -3.23118e-6\n",
       " -5.29306e-6   -5.6025e-6   -3.23118e-6    6.96783e-7"
      ]
     },
     "execution_count": 66,
     "metadata": {},
     "output_type": "execute_result"
    }
   ],
   "source": [
    "#Have to load the data.\n",
    "weak_mu = CSV.read(\"data/Weak_ExpReturns.csv\", header=0)[:, 2]\n",
    "weak_sigma = convert(Matrix, CSV.read(\"data/Weak_CovMat.csv\", header=1)[:, 2:num_assets+1])\n",
    "\n",
    "normal_mu = CSV.read(\"data/Normal_ExpReturns.csv\", header=0)[:, 2]\n",
    "normal_sigma = convert(Matrix, CSV.read(\"data/Normal_CovMat.csv\", header=1)[:, 2:num_assets+1])\n",
    "\n",
    "strong_mu = CSV.read(\"data/Strong_ExpReturns.csv\", header = 0)[:, 2]\n",
    "strong_sigma = convert(Matrix, CSV.read(\"data/Strong_CovMat.csv\", header=1)[:, 2:num_assets+1])"
   ]
  },
  {
   "cell_type": "code",
   "execution_count": 67,
   "metadata": {},
   "outputs": [
    {
     "data": {
      "text/plain": [
       "0.2797195166414282"
      ]
     },
     "execution_count": 67,
     "metadata": {},
     "output_type": "execute_result"
    }
   ],
   "source": [
    "probs = CSV.read(\"data/theta0_Probs.csv\")[1, 2:num_assets]\n",
    "normal_prob = probs[1]\n",
    "\n",
    "strong_prob = probs[2]\n",
    "\n",
    "weak_prob = probs[3]"
   ]
  },
  {
   "cell_type": "code",
   "execution_count": 68,
   "metadata": {},
   "outputs": [
    {
     "data": {
      "text/latex": [
       "$$ 0.10897103662586333 x_{1} + 0.08332572891330764 x_{2} + 0.0071562978966418596 x_{3} + 0.000886494873529021 x_{4} $$"
      ],
      "text/plain": [
       "0.10897103662586333 x[1] + 0.08332572891330764 x[2] + 0.0071562978966418596 x[3] + 0.000886494873529021 x[4]"
      ]
     },
     "execution_count": 68,
     "metadata": {},
     "output_type": "execute_result"
    }
   ],
   "source": [
    "transpose(x)*weak_mu"
   ]
  },
  {
   "cell_type": "code",
   "execution_count": 87,
   "metadata": {},
   "outputs": [
    {
     "data": {
      "text/latex": [
       "$$ -0.9092075932615357 x_{1}^2 - 0.026398714952623192 x_{1}\\times x_{2} + 0.010833817879402633 x_{1}\\times x_{3} + 0.00035546235048013945 x_{1}\\times x_{4} - 0.0710274283285197 x_{2}^2 - 0.005646710591803868 x_{2}\\times x_{3} - 0.00015319631401537282 x_{2}\\times x_{4} - 0.002327012649860939 x_{3}^2 - 1.635854307563336e-5 x_{3}\\times x_{4} - 2.8645121809920462e-6 x_{4}^2 + 0.1273568828395262 x_{1} + 0.06919209014477558 x_{2} + 0.001773428176372963 x_{3} + 0.0008409759329278784 x_{4} $$"
      ],
      "text/plain": [
       "-0.9092075932615357 x[1]² - 0.026398714952623192 x[1]*x[2] + 0.010833817879402633 x[1]*x[3] + 0.00035546235048013945 x[1]*x[4] - 0.0710274283285197 x[2]² - 0.005646710591803868 x[2]*x[3] - 0.00015319631401537282 x[2]*x[4] - 0.002327012649860939 x[3]² - 1.635854307563336e-5 x[3]*x[4] - 2.8645121809920462e-6 x[4]² + 0.1273568828395262 x[1] + 0.06919209014477558 x[2] + 0.001773428176372963 x[3] + 0.0008409759329278784 x[4]"
      ]
     },
     "execution_count": 87,
     "metadata": {},
     "output_type": "execute_result"
    }
   ],
   "source": [
    "lambda = 4\n",
    "@objective(m, Max, weak_prob*(transpose(x)*weak_mu - lambda * transpose(x)*weak_sigma*x) + normal_prob*(transpose(x)*normal_mu - lambda * transpose(x)*normal_sigma*x) + strong_prob*(transpose(x)*strong_mu - lambda*transpose(x)*strong_sigma*strong_mu))"
   ]
  },
  {
   "cell_type": "code",
   "execution_count": 88,
   "metadata": {},
   "outputs": [
    {
     "name": "stdout",
     "output_type": "stream",
     "text": [
      "Optimize a model with 5 rows, 4 columns and 8 nonzeros\r\n",
      "Model has 10 quadratic objective terms\r\n",
      "Coefficient statistics:\r\n",
      "  Matrix range     [1e+00, 1e+00]\r\n",
      "  Objective range  [8e-04, 1e-01]\r\n",
      "  QObjective range [6e-06, 2e+00]\r\n",
      "  Bounds range     [0e+00, 0e+00]\r\n",
      "  RHS range        [1e+00, 1e+00]\r\n",
      "Presolve removed 4 rows and 0 columns\r\n",
      "Presolve time: 0.00s\r\n",
      "Presolved: 1 rows, 4 columns, 4 nonzeros\r\n",
      "Presolved model has 10 quadratic objective terms\r\n",
      "Ordering time: 0.00s\r\n",
      "\r\n",
      "Barrier statistics:\r\n",
      " Free vars  : 3\r\n",
      " AA' NZ     : 6.000e+00\r\n",
      " Factor NZ  : 1.000e+01\r\n",
      " Factor Ops : 3.000e+01 (less than 1 second per iteration)\r\n",
      " Threads    : 1\r\n",
      "\r\n",
      "                  Objective                Residual\r\n",
      "Iter       Primal          Dual         Primal    Dual     Compl     Time\r\n",
      "   0  -2.61366535e+05  2.61637503e+05  3.50e+03 1.27e-01  1.00e+06     0s\r\n",
      "   1  -1.20666657e+04  1.25991493e+04  7.29e+01 1.16e-08  2.68e+04     0s\r\n",
      "   2   3.43766218e-02  7.39801608e+02  5.22e-01 8.32e-11  3.78e+02     0s\r\n",
      "   3   1.88829713e-02  2.04539882e+02  5.22e-07 8.33e-17  5.11e+01     0s\r\n",
      "   4   1.88844591e-02  2.37862989e-01  3.69e-11 1.73e-18  5.47e-02     0s\r\n",
      "   5   1.98533638e-02  2.77850079e-02  1.99e-13 0.00e+00  1.98e-03     0s\r\n",
      "   6   2.04927505e-02  2.09919864e-02  2.22e-16 0.00e+00  1.25e-04     0s\r\n",
      "   7   2.07860905e-02  2.08821208e-02  5.55e-17 1.39e-17  2.40e-05     0s\r\n",
      "   8   2.08309049e-02  2.08326099e-02  1.39e-17 1.90e-17  4.26e-07     0s\r\n",
      "   9   2.08324845e-02  2.08324863e-02  1.39e-17 1.39e-17  4.59e-10     0s\r\n",
      "\r\n",
      "Barrier solved model in 9 iterations and 0.00 seconds\r\n",
      "Optimal objective 2.08324845e-02\r\n",
      "\r\n"
     ]
    }
   ],
   "source": [
    "optimize!(m)"
   ]
  },
  {
   "cell_type": "code",
   "execution_count": 89,
   "metadata": {},
   "outputs": [
    {
     "data": {
      "text/plain": [
       "4-element Array{Float64,1}:\n",
       " 0.06288141730091003  \n",
       " 0.469337579373579    \n",
       " 1.7316204457363596e-6\n",
       " 0.4677792717050652   "
      ]
     },
     "execution_count": 89,
     "metadata": {},
     "output_type": "execute_result"
    }
   ],
   "source": [
    "#SPY, US_Corp, TreasIndex, Cash\n",
    "value.(x)"
   ]
  },
  {
   "cell_type": "code",
   "execution_count": null,
   "metadata": {},
   "outputs": [],
   "source": []
  }
 ],
 "metadata": {
  "kernelspec": {
   "display_name": "Julia 1.1.0",
   "language": "julia",
   "name": "julia-1.1"
  },
  "language_info": {
   "file_extension": ".jl",
   "mimetype": "application/julia",
   "name": "julia",
   "version": "1.1.0"
  }
 },
 "nbformat": 4,
 "nbformat_minor": 2
}
