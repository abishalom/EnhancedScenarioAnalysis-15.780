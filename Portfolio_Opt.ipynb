{
 "cells": [
  {
   "cell_type": "markdown",
   "metadata": {},
   "source": [
    "## Defining the linear progam\n",
    "\n",
    "Decision Variables:\n",
    "- $x_{i}$ represents allocation of portfolio to asset $i$.\n",
    "\n",
    "Contraints:\n",
    "- $\\sum_{i} x_i = 1$\n",
    "- $x_i \\ge 0 \\forall i$\n",
    "\n",
    "Objective function:\n",
    "$$ \\max_x \\sum_{j} p_j \\times (x^T \\mu_{j} - \\lambda \\times x^T \\Sigma_j x)$$\n",
    "\n",
    "Constants being used:\n",
    "- $\\mu_j$, $\\Sigma_j$ are expected returns and covariance matrix under scenario $j$\n",
    "- $p_j$ is the probability of being in scenario $j$\n",
    "- $\\lambda$ is a constant representing risk tolerance."
   ]
  },
  {
   "cell_type": "code",
   "execution_count": 96,
   "metadata": {},
   "outputs": [],
   "source": [
    "using JuMP, Gurobi, LinearAlgebra, CSV"
   ]
  },
  {
   "cell_type": "code",
   "execution_count": 97,
   "metadata": {},
   "outputs": [
    {
     "name": "stdout",
     "output_type": "stream",
     "text": [
      "Academic license - for non-commercial use only\r\n"
     ]
    },
    {
     "data": {
      "text/latex": [
       "$$ \\begin{alignat*}{1}\\text{feasibility}\\\\\n",
       "\\text{Subject to} \\quad\\end{alignat*}\n",
       " $$"
      ],
      "text/plain": [
       "A JuMP Model\n",
       "Feasibility problem with:\n",
       "Variables: 0\n",
       "Model mode: AUTOMATIC\n",
       "CachingOptimizer state: EMPTY_OPTIMIZER\n",
       "Solver name: Gurobi"
      ]
     },
     "execution_count": 97,
     "metadata": {},
     "output_type": "execute_result"
    }
   ],
   "source": [
    "m = Model(with_optimizer(Gurobi.Optimizer))"
   ]
  },
  {
   "cell_type": "code",
   "execution_count": 98,
   "metadata": {},
   "outputs": [
    {
     "data": {
      "text/latex": [
       "$ x_{1} + x_{2} + x_{3} + x_{4} = 1.0 $"
      ],
      "text/plain": [
       "x[1] + x[2] + x[3] + x[4] == 1.0"
      ]
     },
     "execution_count": 98,
     "metadata": {},
     "output_type": "execute_result"
    }
   ],
   "source": [
    "num_assets = 4\n",
    "\n",
    "@variable(m, x[1:num_assets])\n",
    "\n",
    "@constraint(m, non_neg[i= 1:num_assets], x[i] >= 0)\n",
    "@constraint(m, sum(x[i] for i=1:num_assets) == 1)"
   ]
  },
  {
   "cell_type": "code",
   "execution_count": 99,
   "metadata": {},
   "outputs": [
    {
     "data": {
      "text/html": [
       "<table class=\"data-frame\"><thead><tr><th></th><th>Column1</th><th>Column2</th></tr><tr><th></th><th>String</th><th>Float64</th></tr></thead><tbody><p>4 rows × 2 columns</p><tr><th>1</th><td>SPY_Return</td><td>-0.252131</td></tr><tr><th>2</th><td>US_Corp_Return</td><td>0.0286921</td></tr><tr><th>3</th><td>TreasInd_Return</td><td>0.00454707</td></tr><tr><th>4</th><td>Cash_Return</td><td>0.00104796</td></tr></tbody></table>"
      ],
      "text/latex": [
       "\\begin{tabular}{r|cc}\n",
       "\t& Column1 & Column2\\\\\n",
       "\t\\hline\n",
       "\t& String & Float64\\\\\n",
       "\t\\hline\n",
       "\t1 & SPY\\_Return & -0.252131 \\\\\n",
       "\t2 & US\\_Corp\\_Return & 0.0286921 \\\\\n",
       "\t3 & TreasInd\\_Return & 0.00454707 \\\\\n",
       "\t4 & Cash\\_Return & 0.00104796 \\\\\n",
       "\\end{tabular}\n"
      ],
      "text/plain": [
       "4×2 DataFrames.DataFrame\n",
       "│ Row │ Column1         │ Column2    │\n",
       "│     │ \u001b[90mString\u001b[39m          │ \u001b[90mFloat64\u001b[39m    │\n",
       "├─────┼─────────────────┼────────────┤\n",
       "│ 1   │ SPY_Return      │ -0.252131  │\n",
       "│ 2   │ US_Corp_Return  │ 0.0286921  │\n",
       "│ 3   │ TreasInd_Return │ 0.00454707 │\n",
       "│ 4   │ Cash_Return     │ 0.00104796 │"
      ]
     },
     "execution_count": 99,
     "metadata": {},
     "output_type": "execute_result"
    }
   ],
   "source": [
    "CSV.read(\"data/Weak_ExpReturns.csv\", header=0)"
   ]
  },
  {
   "cell_type": "code",
   "execution_count": 100,
   "metadata": {},
   "outputs": [
    {
     "data": {
      "text/plain": [
       "4×4 Array{Float64,2}:\n",
       "  0.0104423     0.00151692   -0.000407407   5.55994e-6\n",
       "  0.00151692    0.000951612  -0.000106923   2.99232e-7\n",
       " -0.000407407  -0.000106923   0.000440469  -3.49966e-6\n",
       "  5.55994e-6    2.99232e-7   -3.49966e-6    1.25276e-7"
      ]
     },
     "execution_count": 100,
     "metadata": {},
     "output_type": "execute_result"
    }
   ],
   "source": [
    "#Have to load the data.\n",
    "weak_mu = CSV.read(\"data/Weak_ExpReturns.csv\", header=0)[:, 2]\n",
    "weak_sigma = convert(Matrix, CSV.read(\"data/Weak_CovMat.csv\", header=1)[:, 2:num_assets+1])\n",
    "\n",
    "normal_mu = CSV.read(\"data/Normal_ExpReturns.csv\", header=0)[:, 2]\n",
    "normal_sigma = convert(Matrix, CSV.read(\"data/Normal_CovMat.csv\", header=1)[:, 2:num_assets+1])\n",
    "\n",
    "strong_mu = CSV.read(\"data/Strong_ExpReturns.csv\", header = 0)[:, 2]\n",
    "strong_sigma = convert(Matrix, CSV.read(\"data/Strong_CovMat.csv\", header=1)[:, 2:num_assets+1])"
   ]
  },
  {
   "cell_type": "code",
   "execution_count": 101,
   "metadata": {},
   "outputs": [
    {
     "data": {
      "text/plain": [
       "0.14148293469399878"
      ]
     },
     "execution_count": 101,
     "metadata": {},
     "output_type": "execute_result"
    }
   ],
   "source": [
    "probs = CSV.read(\"data/theta0_Probs.csv\")[1, 2:num_assets]\n",
    "normal_prob = probs[1]\n",
    "\n",
    "strong_prob = probs[2]\n",
    "\n",
    "weak_prob = probs[3]"
   ]
  },
  {
   "cell_type": "code",
   "execution_count": 102,
   "metadata": {},
   "outputs": [
    {
     "data": {
      "text/latex": [
       "$$ -0.2521308999583641 x_{1} + 0.02869206593346961 x_{2} + 0.00454706660545963 x_{3} + 0.0010479638958430766 x_{4} $$"
      ],
      "text/plain": [
       "-0.2521308999583641 x[1] + 0.02869206593346961 x[2] + 0.00454706660545963 x[3] + 0.0010479638958430766 x[4]"
      ]
     },
     "execution_count": 102,
     "metadata": {},
     "output_type": "execute_result"
    }
   ],
   "source": [
    "transpose(x)*weak_mu"
   ]
  },
  {
   "cell_type": "code",
   "execution_count": 103,
   "metadata": {},
   "outputs": [
    {
     "data": {
      "text/latex": [
       "$$ -0.031561399971499496 x_{1}^2 - 0.010930518463054999 x_{1}\\times x_{2} + 0.0008806604477534773 x_{1}\\times x_{3} + 0.00013526906297120465 x_{1}\\times x_{4} - 0.009157535479433031 x_{2}^2 - 0.001179017185037863 x_{2}\\times x_{3} + 5.42808680954073e-5 x_{2}\\times x_{4} - 0.0016413665455904272 x_{3}^2 + 7.061484922643777e-7 x_{3}\\times x_{4} - 2.2291096357123482e-6 x_{4}^2 + 0.06989397512662873 x_{1} + 0.06270921260255818 x_{2} + 0.004232205276027821 x_{3} + 0.0007645809344731123 x_{4} $$"
      ],
      "text/plain": [
       "-0.031561399971499496 x[1]² - 0.010930518463054999 x[1]*x[2] + 0.0008806604477534773 x[1]*x[3] + 0.00013526906297120465 x[1]*x[4] - 0.009157535479433031 x[2]² - 0.001179017185037863 x[2]*x[3] + 5.42808680954073e-5 x[2]*x[4] - 0.0016413665455904272 x[3]² + 7.061484922643777e-7 x[3]*x[4] - 2.2291096357123482e-6 x[4]² + 0.06989397512662873 x[1] + 0.06270921260255818 x[2] + 0.004232205276027821 x[3] + 0.0007645809344731123 x[4]"
      ]
     },
     "execution_count": 103,
     "metadata": {},
     "output_type": "execute_result"
    }
   ],
   "source": [
    "lambda = 3\n",
    "@objective(m, Max, weak_prob*(transpose(x)*weak_mu - lambda * transpose(x)*weak_sigma*x) + normal_prob*(transpose(x)*normal_mu - lambda * transpose(x)*normal_sigma*x) + strong_prob*(transpose(x)*strong_mu - lambda*transpose(x)*strong_sigma*strong_mu))"
   ]
  },
  {
   "cell_type": "code",
   "execution_count": 104,
   "metadata": {},
   "outputs": [
    {
     "name": "stdout",
     "output_type": "stream",
     "text": [
      "Academic license - for non-commercial use only\r\n",
      "Optimize a model with 5 rows, 4 columns and 8 nonzeros\r\n",
      "Model has 10 quadratic objective terms\r\n",
      "Coefficient statistics:\r\n",
      "  Matrix range     [1e+00, 1e+00]\r\n",
      "  Objective range  [8e-04, 7e-02]\r\n",
      "  QObjective range [1e-06, 6e-02]\r\n",
      "  Bounds range     [0e+00, 0e+00]\r\n",
      "  RHS range        [1e+00, 1e+00]\r\n",
      "Presolve removed 4 rows and 0 columns\r\n",
      "Presolve time: 0.00s\r\n",
      "Presolved: 1 rows, 4 columns, 4 nonzeros\r\n",
      "Presolved model has 10 quadratic objective terms\r\n",
      "Ordering time: 0.00s\r\n",
      "\r\n",
      "Barrier statistics:\r\n",
      " Free vars  : 3\r\n",
      " AA' NZ     : 6.000e+00\r\n",
      " Factor NZ  : 1.000e+01\r\n",
      " Factor Ops : 3.000e+01 (less than 1 second per iteration)\r\n",
      " Threads    : 1\r\n",
      "\r\n",
      "                  Objective                Residual\r\n",
      "Iter       Primal          Dual         Primal    Dual     Compl     Time\r\n",
      "   0  -1.24933924e+05  1.25344544e+05  3.50e+03 1.40e-01  1.00e+06     0s\r\n",
      "   1  -3.34482067e+03  3.64030428e+03  1.17e+02 2.68e-08  3.49e+04     0s\r\n",
      "   2   4.06798817e-02  2.97041711e+02  7.66e-03 1.76e-12  7.65e+01     0s\r\n",
      "   3   3.95178624e-02  3.56845367e-01  5.18e-07 1.20e-16  7.93e-02     0s\r\n",
      "   4   4.29229842e-02  5.98434998e-02  7.37e-09 1.73e-18  4.23e-03     0s\r\n",
      "   5   5.45825866e-02  5.74477900e-02  7.38e-15 1.73e-18  7.16e-04     0s\r\n",
      "   6   5.53318884e-02  5.53461104e-02  5.55e-17 7.72e-17  3.56e-06     0s\r\n",
      "   7   5.53331145e-02  5.53331289e-02  2.78e-17 2.08e-17  3.61e-09     0s\r\n",
      "   8   5.53331157e-02  5.53331157e-02  2.78e-17 5.55e-17  3.61e-12     0s\r\n",
      "\r\n",
      "Barrier solved model in 8 iterations and 0.00 seconds\r\n",
      "Optimal objective 5.53331157e-02\r\n",
      "\r\n"
     ]
    }
   ],
   "source": [
    "optimize!(m)"
   ]
  },
  {
   "cell_type": "code",
   "execution_count": 105,
   "metadata": {},
   "outputs": [
    {
     "data": {
      "text/plain": [
       "4-element Array{Float64,1}:\n",
       " 0.24454664832192444   \n",
       " 0.7554533516503955    \n",
       " 1.5646605855797518e-11\n",
       " 1.2033384613846213e-11"
      ]
     },
     "execution_count": 105,
     "metadata": {},
     "output_type": "execute_result"
    }
   ],
   "source": [
    "#SPY, US_Corp, TreasIndex, Cash\n",
    "value.(x)"
   ]
  },
  {
   "cell_type": "code",
   "execution_count": null,
   "metadata": {},
   "outputs": [],
   "source": []
  }
 ],
 "metadata": {
  "kernelspec": {
   "display_name": "Julia 1.1.0",
   "language": "julia",
   "name": "julia-1.1"
  },
  "language_info": {
   "file_extension": ".jl",
   "mimetype": "application/julia",
   "name": "julia",
   "version": "1.1.0"
  }
 },
 "nbformat": 4,
 "nbformat_minor": 2
}
