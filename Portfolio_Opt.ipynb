{
 "cells": [
  {
   "cell_type": "markdown",
   "metadata": {},
   "source": [
    "## Defining the linear progam\n",
    "\n",
    "Decision Variables:\n",
    "- $x_{i}$ represents allocation of portfolio to asset $i$.\n",
    "\n",
    "Contraints:\n",
    "- $\\sum_{i} x_i = 1$\n",
    "- $x_i \\ge 0 \\forall i$\n",
    "\n",
    "Objective function:\n",
    "$$ \\max_x \\sum_{j} p_j \\times (x^T \\mu_{j} - \\lambda \\times x^T \\Sigma_j x)$$\n",
    "\n",
    "Constants being used:\n",
    "- $\\mu_j$, $\\Sigma_j$ are expected returns and covariance matrix under scenario $j$\n",
    "- $p_j$ is the probability of being in scenario $j$\n",
    "- $\\lambda$ is a constant representing risk tolerance."
   ]
  },
  {
   "cell_type": "code",
   "execution_count": 35,
   "metadata": {},
   "outputs": [],
   "source": [
    "using JuMP, Gurobi, LinearAlgebra, CSV"
   ]
  },
  {
   "cell_type": "code",
   "execution_count": 36,
   "metadata": {},
   "outputs": [
    {
     "name": "stdout",
     "output_type": "stream",
     "text": [
      "Academic license - for non-commercial use only\r\n"
     ]
    },
    {
     "data": {
      "text/latex": [
       "$$ \\begin{alignat*}{1}\\text{feasibility}\\\\\n",
       "\\text{Subject to} \\quad\\end{alignat*}\n",
       " $$"
      ],
      "text/plain": [
       "A JuMP Model\n",
       "Feasibility problem with:\n",
       "Variables: 0\n",
       "Model mode: AUTOMATIC\n",
       "CachingOptimizer state: EMPTY_OPTIMIZER\n",
       "Solver name: Gurobi"
      ]
     },
     "execution_count": 36,
     "metadata": {},
     "output_type": "execute_result"
    }
   ],
   "source": [
    "m = Model(with_optimizer(Gurobi.Optimizer))"
   ]
  },
  {
   "cell_type": "code",
   "execution_count": 37,
   "metadata": {},
   "outputs": [
    {
     "data": {
      "text/latex": [
       "$ x_{1} + x_{2} + x_{3} + x_{4} = 1.0 $"
      ],
      "text/plain": [
       "x[1] + x[2] + x[3] + x[4] == 1.0"
      ]
     },
     "execution_count": 37,
     "metadata": {},
     "output_type": "execute_result"
    }
   ],
   "source": [
    "num_assets = 4\n",
    "\n",
    "@variable(m, x[1:num_assets])\n",
    "\n",
    "@constraint(m, non_neg[i= 1:num_assets], x[i] >= 0)\n",
    "@constraint(m, sum(x[i] for i=1:num_assets) == 1)"
   ]
  },
  {
   "cell_type": "code",
   "execution_count": null,
   "metadata": {},
   "outputs": [],
   "source": []
  },
  {
   "cell_type": "code",
   "execution_count": 38,
   "metadata": {},
   "outputs": [
    {
     "data": {
      "text/plain": [
       "4×4 Array{Float64,2}:\n",
       "  0.190415      0.0071689   -0.000709067  -5.29306e-6\n",
       "  0.0071689     0.0163268    0.00117289   -5.6025e-6 \n",
       " -0.000709067   0.00117289   0.000620389  -3.23118e-6\n",
       " -5.29306e-6   -5.6025e-6   -3.23118e-6    6.96783e-7"
      ]
     },
     "execution_count": 38,
     "metadata": {},
     "output_type": "execute_result"
    }
   ],
   "source": [
    "#Have to load the data.\n",
    "weak_mu = CSV.read(\"data/Weak_ExpReturns.csv\", header=0)[:, 2]\n",
    "weak_sigma = convert(Matrix, CSV.read(\"data/Weak_CovMat.csv\", header=1)[:, 2:num_assets+1])\n",
    "\n",
    "normal_mu = CSV.read(\"data/Normal_ExpReturns.csv\", header=0)[:, 2]\n",
    "normal_sigma = convert(Matrix, CSV.read(\"data/Normal_CovMat.csv\", header=1)[:, 2:num_assets+1])\n",
    "\n",
    "strong_mu = CSV.read(\"data/Strong_ExpReturns.csv\", header = 0)[:, 2]\n",
    "strong_sigma = convert(Matrix, CSV.read(\"data/Strong_CovMat.csv\", header=1)[:, 2:num_assets+1])"
   ]
  },
  {
   "cell_type": "code",
   "execution_count": 45,
   "metadata": {},
   "outputs": [
    {
     "data": {
      "text/plain": [
       "0.2797195166414282"
      ]
     },
     "execution_count": 45,
     "metadata": {},
     "output_type": "execute_result"
    }
   ],
   "source": [
    "probs = CSV.read(\"data/theta0_Probs.csv\")[1, 2:num_assets]\n",
    "normal_prob = probs[1]\n",
    "\n",
    "strong_prob = probs[2]\n",
    "\n",
    "weak_prob = probs[3]"
   ]
  },
  {
   "cell_type": "code",
   "execution_count": 50,
   "metadata": {},
   "outputs": [
    {
     "data": {
      "text/latex": [
       "$$ 0.10897103662586333 x_{1} + 0.08332572891330764 x_{2} + 0.0071562978966418596 x_{3} + 0.000886494873529021 x_{4} $$"
      ],
      "text/plain": [
       "0.10897103662586333 x[1] + 0.08332572891330764 x[2] + 0.0071562978966418596 x[3] + 0.000886494873529021 x[4]"
      ]
     },
     "execution_count": 50,
     "metadata": {},
     "output_type": "execute_result"
    }
   ],
   "source": [
    "transpose(x)*weak_mu"
   ]
  },
  {
   "cell_type": "code",
   "execution_count": 52,
   "metadata": {},
   "outputs": [
    {
     "data": {
      "text/latex": [
       "$$ -0.22730189831538392 x_{1}^2 - 0.006599678738155798 x_{1}\\times x_{2} + 0.0027084544698506583 x_{1}\\times x_{3} + 8.886558762003486e-5 x_{1}\\times x_{4} - 0.017756857082129925 x_{2}^2 - 0.001411677647950967 x_{2}\\times x_{3} - 3.8299078503843204e-5 x_{2}\\times x_{4} - 0.0005817531624652348 x_{3}^2 - 4.08963576890834e-6 x_{3}\\times x_{4} - 7.161280452480116e-7 x_{4}^2 + 0.16427066588458056 x_{1} + 0.07135007431132459 x_{2} + 0.0016933976850106282 x_{3} + 0.000839691638300929 x_{4} $$"
      ],
      "text/plain": [
       "-0.22730189831538392 x[1]² - 0.006599678738155798 x[1]*x[2] + 0.0027084544698506583 x[1]*x[3] + 8.886558762003486e-5 x[1]*x[4] - 0.017756857082129925 x[2]² - 0.001411677647950967 x[2]*x[3] - 3.8299078503843204e-5 x[2]*x[4] - 0.0005817531624652348 x[3]² - 4.08963576890834e-6 x[3]*x[4] - 7.161280452480116e-7 x[4]² + 0.16427066588458056 x[1] + 0.07135007431132459 x[2] + 0.0016933976850106282 x[3] + 0.000839691638300929 x[4]"
      ]
     },
     "execution_count": 52,
     "metadata": {},
     "output_type": "execute_result"
    }
   ],
   "source": [
    "lambda = 1\n",
    "@objective(m, Max, weak_prob*(transpose(x)*weak_mu - lambda * transpose(x)*weak_sigma*x) + normal_prob*(transpose(x)*normal_mu - lambda * transpose(x)*normal_sigma*x) + strong_prob*(transpose(x)*strong_mu - lambda*transpose(x)*strong_sigma*strong_mu))"
   ]
  },
  {
   "cell_type": "code",
   "execution_count": 54,
   "metadata": {},
   "outputs": [
    {
     "name": "stdout",
     "output_type": "stream",
     "text": [
      "Academic license - for non-commercial use only\r\n",
      "Optimize a model with 5 rows, 4 columns and 8 nonzeros\r\n",
      "Model has 10 quadratic objective terms\r\n",
      "Coefficient statistics:\r\n",
      "  Matrix range     [1e+00, 1e+00]\r\n",
      "  Objective range  [8e-04, 2e-01]\r\n",
      "  QObjective range [1e-06, 5e-01]\r\n",
      "  Bounds range     [0e+00, 0e+00]\r\n",
      "  RHS range        [1e+00, 1e+00]\r\n",
      "Presolve removed 4 rows and 0 columns\r\n",
      "Presolve time: 0.01s\r\n",
      "Presolved: 1 rows, 4 columns, 4 nonzeros\r\n",
      "Presolved model has 10 quadratic objective terms\r\n",
      "Ordering time: 0.00s\r\n",
      "\r\n",
      "Barrier statistics:\r\n",
      " Free vars  : 3\r\n",
      " AA' NZ     : 6.000e+00\r\n",
      " Factor NZ  : 1.000e+01\r\n",
      " Factor Ops : 3.000e+01 (less than 1 second per iteration)\r\n",
      " Threads    : 1\r\n",
      "\r\n",
      "                  Objective                Residual\r\n",
      "Iter       Primal          Dual         Primal    Dual     Compl     Time\r\n",
      "   0  -2.61182892e+05  2.61642694e+05  3.25e+03 1.64e-01  1.00e+06     0s\r\n",
      "   1  -2.33836635e+04  2.37030017e+04  9.39e+01 8.06e-09  4.00e+04     0s\r\n",
      "   2   5.03407474e-02  4.52580624e+02  2.59e+00 2.22e-10  1.29e+03     0s\r\n",
      "   3   2.79024009e-02  3.76647817e+02  2.59e-06 2.17e-16  9.42e+01     0s\r\n",
      "   4   2.79119774e-02  5.27510420e-01  8.48e-10 3.47e-18  1.25e-01     0s\r\n",
      "   5   3.92371625e-02  1.22614681e-01  8.69e-11 1.73e-18  2.08e-02     0s\r\n",
      "   6   5.79212427e-02  8.92313697e-02  8.33e-16 2.78e-17  7.83e-03     0s\r\n",
      "   7   6.83092506e-02  7.10372557e-02  1.11e-16 3.82e-17  6.82e-04     0s\r\n",
      "   8   6.91536888e-02  6.91572817e-02  5.55e-17 1.39e-17  8.98e-07     0s\r\n",
      "   9   6.91552950e-02  6.91552986e-02  5.55e-17 2.99e-17  8.98e-10     0s\r\n",
      "\r\n",
      "Barrier solved model in 9 iterations and 0.02 seconds\r\n",
      "Optimal objective 6.91552950e-02\r\n",
      "\r\n"
     ]
    }
   ],
   "source": [
    "optimize!(m)"
   ]
  },
  {
   "cell_type": "code",
   "execution_count": 55,
   "metadata": {},
   "outputs": [
    {
     "data": {
      "text/plain": [
       "4-element Array{Float64,1}:\n",
       " 0.25546234358510217  \n",
       " 0.7445376182541931   \n",
       " 1.9531452766419627e-8\n",
       " 1.862925200652494e-8 "
      ]
     },
     "execution_count": 55,
     "metadata": {},
     "output_type": "execute_result"
    }
   ],
   "source": [
    "value.(x)"
   ]
  }
 ],
 "metadata": {
  "kernelspec": {
   "display_name": "Julia 1.1.0",
   "language": "julia",
   "name": "julia-1.1"
  },
  "language_info": {
   "file_extension": ".jl",
   "mimetype": "application/julia",
   "name": "julia",
   "version": "1.1.0"
  }
 },
 "nbformat": 4,
 "nbformat_minor": 2
}
