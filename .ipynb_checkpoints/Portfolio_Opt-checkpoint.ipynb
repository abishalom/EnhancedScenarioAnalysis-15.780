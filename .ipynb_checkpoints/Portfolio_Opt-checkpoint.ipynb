{
 "cells": [
  {
   "cell_type": "markdown",
   "metadata": {},
   "source": [
    "## Defining the linear progam\n",
    "\n",
    "Decision Variables:\n",
    "- $x_{i}$ represents allocation of portfolio to asset $i$.\n",
    "\n",
    "Contraints:\n",
    "- $\\sum_{i} x_i = 1$\n",
    "- $x_i \\ge 0 \\forall i$\n",
    "\n",
    "Objective function:\n",
    "$$ \\max_x \\sum_{j} p_j \\times (x^T \\mu_{j} - \\lambda \\times x^T \\Sigma_j x)$$\n",
    "\n",
    "Constants being used:\n",
    "- $\\mu_j$, $\\Sigma_j$ are expected returns and covariance matrix under scenario $j$\n",
    "- $p_j$ is the probability of being in scenario $j$\n",
    "- $\\lambda$ is a constant representing risk tolerance."
   ]
  },
  {
   "cell_type": "code",
   "execution_count": 131,
   "metadata": {},
   "outputs": [],
   "source": [
    "using JuMP, Gurobi, LinearAlgebra, CSV"
   ]
  },
  {
   "cell_type": "code",
   "execution_count": 132,
   "metadata": {},
   "outputs": [
    {
     "name": "stdout",
     "output_type": "stream",
     "text": [
      "Academic license - for non-commercial use only\r\n"
     ]
    },
    {
     "data": {
      "text/latex": [
       "$$ \\begin{alignat*}{1}\\text{feasibility}\\\\\n",
       "\\text{Subject to} \\quad\\end{alignat*}\n",
       " $$"
      ],
      "text/plain": [
       "A JuMP Model\n",
       "Feasibility problem with:\n",
       "Variables: 0\n",
       "Model mode: AUTOMATIC\n",
       "CachingOptimizer state: EMPTY_OPTIMIZER\n",
       "Solver name: Gurobi"
      ]
     },
     "execution_count": 132,
     "metadata": {},
     "output_type": "execute_result"
    }
   ],
   "source": [
    "m = Model(with_optimizer(Gurobi.Optimizer))"
   ]
  },
  {
   "cell_type": "code",
   "execution_count": 133,
   "metadata": {},
   "outputs": [
    {
     "data": {
      "text/latex": [
       "$ x_{1} + x_{2} + x_{3} + x_{4} = 1.0 $"
      ],
      "text/plain": [
       "x[1] + x[2] + x[3] + x[4] == 1.0"
      ]
     },
     "execution_count": 133,
     "metadata": {},
     "output_type": "execute_result"
    }
   ],
   "source": [
    "num_assets = 4\n",
    "\n",
    "@variable(m, x[1:num_assets])\n",
    "\n",
    "@constraint(m, non_neg[i= 1:num_assets], x[i] >= 0)\n",
    "@constraint(m, sum(x[i] for i=1:num_assets) == 1)"
   ]
  },
  {
   "cell_type": "code",
   "execution_count": 134,
   "metadata": {},
   "outputs": [
    {
     "data": {
      "text/html": [
       "<table class=\"data-frame\"><thead><tr><th></th><th>Column1</th><th>SPY_Return</th><th>US_Corp_Return</th><th>TreasInd_Return</th><th>Cash_Return</th></tr><tr><th></th><th>String</th><th>Float64</th><th>Float64</th><th>Float64</th><th>Float64</th></tr></thead><tbody><p>3 rows × 5 columns</p><tr><th>1</th><td>Normal</td><td>0.0945161</td><td>0.0580127</td><td>0.041569</td><td>0.0163151</td></tr><tr><th>2</th><td>Strong</td><td>0.266753</td><td>0.0226978</td><td>-0.000699308</td><td>0.0128315</td></tr><tr><th>3</th><td>Weak</td><td>-0.0777203</td><td>0.0933276</td><td>0.0838374</td><td>0.0197986</td></tr></tbody></table>"
      ],
      "text/latex": [
       "\\begin{tabular}{r|ccccc}\n",
       "\t& Column1 & SPY\\_Return & US\\_Corp\\_Return & TreasInd\\_Return & Cash\\_Return\\\\\n",
       "\t\\hline\n",
       "\t& String & Float64 & Float64 & Float64 & Float64\\\\\n",
       "\t\\hline\n",
       "\t1 & Normal & 0.0945161 & 0.0580127 & 0.041569 & 0.0163151 \\\\\n",
       "\t2 & Strong & 0.266753 & 0.0226978 & -0.000699308 & 0.0128315 \\\\\n",
       "\t3 & Weak & -0.0777203 & 0.0933276 & 0.0838374 & 0.0197986 \\\\\n",
       "\\end{tabular}\n"
      ],
      "text/plain": [
       "3×5 DataFrames.DataFrame\n",
       "│ Row │ Column1 │ SPY_Return │ US_Corp_Return │ TreasInd_Return │ Cash_Return │\n",
       "│     │ \u001b[90mString\u001b[39m  │ \u001b[90mFloat64\u001b[39m    │ \u001b[90mFloat64\u001b[39m        │ \u001b[90mFloat64\u001b[39m         │ \u001b[90mFloat64\u001b[39m     │\n",
       "├─────┼─────────┼────────────┼────────────────┼─────────────────┼─────────────┤\n",
       "│ 1   │ Normal  │ 0.0945161  │ 0.0580127      │ 0.041569        │ 0.0163151   │\n",
       "│ 2   │ Strong  │ 0.266753   │ 0.0226978      │ -0.000699308    │ 0.0128315   │\n",
       "│ 3   │ Weak    │ -0.0777203 │ 0.0933276      │ 0.0838374       │ 0.0197986   │"
      ]
     },
     "execution_count": 134,
     "metadata": {},
     "output_type": "execute_result"
    }
   ],
   "source": [
    "rets = CSV.read(\"data/ExpReturns.csv\", header=1)"
   ]
  },
  {
   "cell_type": "code",
   "execution_count": 135,
   "metadata": {},
   "outputs": [
    {
     "data": {
      "text/plain": [
       "4×4 Array{Float64,2}:\n",
       "  0.00961561  0.00125883   -2.63236e-5    4.7724e-5 \n",
       "  0.00125883  0.0010316     0.000256363   1.34748e-5\n",
       " -2.63236e-5  0.000256363   0.000120137  -9.7315e-6 \n",
       "  4.7724e-5   1.34748e-5   -9.7315e-6     1.05526e-5"
      ]
     },
     "execution_count": 135,
     "metadata": {},
     "output_type": "execute_result"
    }
   ],
   "source": [
    "#Have to load the data.\n",
    "weak_mu = convert(Vector, rets[3, 2:num_assets+1])\n",
    "weak_sigma = convert(Matrix, CSV.read(\"data/Weak_CovMat.csv\", header=1)[:, 2:num_assets+1])\n",
    "\n",
    "normal_mu = convert(Vector, rets[1, 2:num_assets+1])\n",
    "normal_sigma = convert(Matrix, CSV.read(\"data/Normal_CovMat.csv\", header=1)[:, 2:num_assets+1])\n",
    "\n",
    "strong_mu = convert(Vector, rets[2, 2:num_assets+1])\n",
    "strong_sigma = convert(Matrix, CSV.read(\"data/Strong_CovMat.csv\", header=1)[:, 2:num_assets+1])"
   ]
  },
  {
   "cell_type": "code",
   "execution_count": 136,
   "metadata": {},
   "outputs": [
    {
     "data": {
      "text/plain": [
       "0.174410327907863"
      ]
     },
     "execution_count": 136,
     "metadata": {},
     "output_type": "execute_result"
    }
   ],
   "source": [
    "probs = CSV.read(\"data/theta0_Probs.csv\")[1, 2:num_assets]\n",
    "normal_prob = probs[1]\n",
    "\n",
    "strong_prob = probs[2]\n",
    "\n",
    "weak_prob = probs[3]"
   ]
  },
  {
   "cell_type": "code",
   "execution_count": 137,
   "metadata": {},
   "outputs": [
    {
     "data": {
      "text/plain": [
       "4-element Array{Any,1}:\n",
       " -0.07772030624304493 \n",
       "  0.09332758825036234 \n",
       "  0.08383736962723685 \n",
       "  0.019798631701334144"
      ]
     },
     "execution_count": 137,
     "metadata": {},
     "output_type": "execute_result"
    }
   ],
   "source": [
    "weak_mu"
   ]
  },
  {
   "cell_type": "code",
   "execution_count": 138,
   "metadata": {},
   "outputs": [
    {
     "data": {
      "text/latex": [
       "$$ -0.07772030624304493 x_{1} + 0.09332758825036234 x_{2} + 0.08383736962723685 x_{3} + 0.019798631701334144 x_{4} $$"
      ],
      "text/plain": [
       "-0.07772030624304493 x[1] + 0.09332758825036234 x[2] + 0.08383736962723685 x[3] + 0.019798631701334144 x[4]"
      ]
     },
     "execution_count": 138,
     "metadata": {},
     "output_type": "execute_result"
    }
   ],
   "source": [
    "transpose(x)*weak_mu"
   ]
  },
  {
   "cell_type": "code",
   "execution_count": 139,
   "metadata": {},
   "outputs": [
    {
     "data": {
      "text/latex": [
       "$$ -0.047419917426707425 x_{1}^2 - 0.024283060494628285 x_{1}\\times x_{2} - 0.0009064910864272592 x_{1}\\times x_{3} + 0.0025373569599089272 x_{1}\\times x_{4} - 0.012578945626289662 x_{2}^2 - 0.009564205429433993 x_{2}\\times x_{3} + 0.0009616181200426052 x_{2}\\times x_{4} - 0.002909965753139956 x_{3}^2 - 0.00025672512275201707 x_{3}\\times x_{4} - 0.00060876854118865 x_{4}^2 + 0.08519777057451236 x_{1} + 0.059586475343931515 x_{2} + 0.04361571183561331 x_{3} + 0.0164787279885785 x_{4} $$"
      ],
      "text/plain": [
       "-0.047419917426707425 x[1]² - 0.024283060494628285 x[1]*x[2] - 0.0009064910864272592 x[1]*x[3] + 0.0025373569599089272 x[1]*x[4] - 0.012578945626289662 x[2]² - 0.009564205429433993 x[2]*x[3] + 0.0009616181200426052 x[2]*x[4] - 0.002909965753139956 x[3]² - 0.00025672512275201707 x[3]*x[4] - 0.00060876854118865 x[4]² + 0.08519777057451236 x[1] + 0.059586475343931515 x[2] + 0.04361571183561331 x[3] + 0.0164787279885785 x[4]"
      ]
     },
     "execution_count": 139,
     "metadata": {},
     "output_type": "execute_result"
    }
   ],
   "source": [
    "lambda = 3\n",
    "@objective(m, Max, weak_prob*(transpose(x)*weak_mu - lambda * transpose(x)*weak_sigma*x) + normal_prob*(transpose(x)*normal_mu - lambda * transpose(x)*normal_sigma*x) + strong_prob*(transpose(x)*strong_mu - lambda*transpose(x)*strong_sigma*strong_mu))"
   ]
  },
  {
   "cell_type": "code",
   "execution_count": 140,
   "metadata": {},
   "outputs": [
    {
     "name": "stdout",
     "output_type": "stream",
     "text": [
      "Academic license - for non-commercial use only\r\n",
      "Optimize a model with 5 rows, 4 columns and 8 nonzeros\r\n",
      "Model has 10 quadratic objective terms\r\n",
      "Coefficient statistics:\r\n",
      "  Matrix range     [1e+00, 1e+00]\r\n",
      "  Objective range  [2e-02, 9e-02]\r\n",
      "  QObjective range [5e-04, 9e-02]\r\n",
      "  Bounds range     [0e+00, 0e+00]\r\n",
      "  RHS range        [1e+00, 1e+00]\r\n",
      "Presolve removed 4 rows and 0 columns\r\n",
      "Presolve time: 0.00s\r\n",
      "Presolved: 1 rows, 4 columns, 4 nonzeros\r\n",
      "Presolved model has 10 quadratic objective terms\r\n",
      "Ordering time: 0.00s\r\n",
      "\r\n",
      "Barrier statistics:\r\n",
      " Free vars  : 3\r\n",
      " AA' NZ     : 6.000e+00\r\n",
      " Factor NZ  : 1.000e+01\r\n",
      " Factor Ops : 3.000e+01 (less than 1 second per iteration)\r\n",
      " Threads    : 1\r\n",
      "\r\n",
      "                  Objective                Residual\r\n",
      "Iter       Primal          Dual         Primal    Dual     Compl     Time\r\n",
      "   0  -4.37642281e+05  4.40238862e+05  3.50e+03 6.98e-01  9.99e+05     0s\r\n",
      "   1  -1.01188783e+04  1.02557706e+04  7.70e+01 5.18e-08  2.70e+04     0s\r\n",
      "   2  -4.67201065e+01  1.37630719e+02  2.89e+00 1.94e-09  1.06e+03     0s\r\n",
      "   3   4.19599576e-02  8.61199832e+01  2.89e-06 1.93e-15  2.15e+01     0s\r\n",
      "   4   4.19619702e-02  1.64932479e-01  1.24e-09 2.78e-17  3.07e-02     0s\r\n",
      "   5   4.64423991e-02  7.01669100e-02  1.67e-10 1.08e-19  5.93e-03     0s\r\n",
      "   6   5.18909347e-02  6.20477313e-02  1.67e-16 1.39e-17  2.54e-03     0s\r\n",
      "   7   5.20462191e-02  5.32170609e-02  1.39e-17 7.63e-17  2.93e-04     0s\r\n",
      "   8   5.21746708e-02  5.23886734e-02  6.94e-18 4.16e-17  5.35e-05     0s\r\n",
      "   9   5.22037798e-02  5.22053776e-02  5.55e-17 6.52e-17  3.99e-07     0s\r\n",
      "  10   5.22039683e-02  5.22039699e-02  9.02e-17 1.73e-17  4.01e-10     0s\r\n",
      "\r\n",
      "Barrier solved model in 10 iterations and 0.00 seconds\r\n",
      "Optimal objective 5.22039683e-02\r\n",
      "\r\n"
     ]
    }
   ],
   "source": [
    "optimize!(m)"
   ]
  },
  {
   "cell_type": "code",
   "execution_count": 141,
   "metadata": {},
   "outputs": [
    {
     "data": {
      "text/plain": [
       "4-element Array{Float64,1}:\n",
       " 0.3956360731861731  \n",
       " 0.3763258962996764  \n",
       " 0.22803802136431242 \n",
       " 9.149836660235008e-9"
      ]
     },
     "execution_count": 141,
     "metadata": {},
     "output_type": "execute_result"
    }
   ],
   "source": [
    "#SPY, US_Corp, TreasIndex, Cash\n",
    "value.(x)"
   ]
  },
  {
   "cell_type": "code",
   "execution_count": 147,
   "metadata": {},
   "outputs": [
    {
     "data": {
      "text/plain": [
       "0.0661214131644472"
      ]
     },
     "execution_count": 147,
     "metadata": {},
     "output_type": "execute_result"
    }
   ],
   "source": [
    "pwe = [0.087, 0.06, 0.04, 0.018]\n",
    "transpose(value.(x))*pwe"
   ]
  },
  {
   "cell_type": "code",
   "execution_count": null,
   "metadata": {},
   "outputs": [],
   "source": []
  }
 ],
 "metadata": {
  "kernelspec": {
   "display_name": "Julia 1.1.0",
   "language": "julia",
   "name": "julia-1.1"
  },
  "language_info": {
   "file_extension": ".jl",
   "mimetype": "application/julia",
   "name": "julia",
   "version": "1.1.0"
  }
 },
 "nbformat": 4,
 "nbformat_minor": 2
}
